{
  "cells": [
    {
      "cell_type": "code",
      "execution_count": 1,
      "metadata": {
        "colab": {
          "base_uri": "https://localhost:8080/"
        },
        "id": "iKCXVAE6dYBw",
        "outputId": "194d9b5e-cc60-4a23-913a-35b87657bfe4"
      },
      "outputs": [
        {
          "name": "stdout",
          "output_type": "stream",
          "text": [
            "Drive already mounted at /gdrive; to attempt to forcibly remount, call drive.mount(\"/gdrive\", force_remount=True).\n"
          ]
        }
      ],
      "source": [
        "from google.colab import drive\n",
        "drive.mount('/gdrive')"
      ]
    },
    {
      "cell_type": "code",
      "execution_count": 2,
      "metadata": {
        "id": "mOX5cbAKcvww"
      },
      "outputs": [],
      "source": [
        "from tensorflow.keras.datasets import mnist\n",
        "import numpy as np\n",
        "import tensorflow as tf\n",
        "from tensorflow.keras.preprocessing.image import ImageDataGenerator\n",
        "from tensorflow.keras.optimizers import SGD\n",
        "from sklearn.preprocessing import LabelBinarizer\n",
        "from sklearn.model_selection import train_test_split\n",
        "from sklearn.metrics import classification_report\n",
        "from imutils import build_montages\n",
        "import matplotlib.pyplot as plt\n",
        "import numpy as np\n",
        "import argparse\n",
        "import cv2\n",
        "import os\n",
        "from collections import OrderedDict"
      ]
    },
    {
      "cell_type": "code",
      "execution_count": 3,
      "metadata": {
        "id": "q8OqcM80dQwa"
      },
      "outputs": [],
      "source": [
        "# !wget http://www.ee.surrey.ac.uk/CVSSP/demos/chars74k/EnglishImg.tgz"
      ]
    },
    {
      "cell_type": "code",
      "execution_count": 4,
      "metadata": {
        "id": "lVm-5-uWdSiq"
      },
      "outputs": [],
      "source": [
        "# !tar -xvf 'EnglishImg.tgz' -C '/gdrive/MyDrive/Colab Notebooks'"
      ]
    },
    {
      "cell_type": "code",
      "execution_count": 5,
      "metadata": {
        "id": "vlAylC1yd1Sd"
      },
      "outputs": [],
      "source": [
        "path='/gdrive/MyDrive/Colab Notebooks/English/Img/GoodImg/Bmp'"
      ]
    },
    {
      "cell_type": "code",
      "execution_count": 6,
      "metadata": {
        "id": "VluMhakyeMCU"
      },
      "outputs": [],
      "source": [
        "folders = []\n",
        "for root, dirnames, filenames in os.walk(path):\n",
        "    for j in dirnames:\n",
        "      folders.append(j)\n",
        "    #print(\"filenames\",filenames)\n",
        "  #print('root   ',root,',  dirnames: - ',dirnames,'   filenames',filenames)"
      ]
    },
    {
      "cell_type": "code",
      "execution_count": 7,
      "metadata": {
        "colab": {
          "base_uri": "https://localhost:8080/"
        },
        "id": "AakjA9rRkVs9",
        "outputId": "07df5305-7643-4abb-ce0e-9a9f19807497"
      },
      "outputs": [
        {
          "data": {
            "text/plain": [
              "62"
            ]
          },
          "execution_count": 7,
          "metadata": {},
          "output_type": "execute_result"
        }
      ],
      "source": [
        "len(folders)"
      ]
    },
    {
      "cell_type": "code",
      "execution_count": 8,
      "metadata": {
        "id": "35A9x2vukZA-"
      },
      "outputs": [],
      "source": [
        "files = {}\n",
        "for i in folders:\n",
        "  files[i]=os.listdir(\"/gdrive/MyDrive/Colab Notebooks/English/Img/GoodImg/Bmp/\"+i)\n",
        "  #files.add(os.listdir(\"/content/English/Img/BadImag/Bmp/\"+i))"
      ]
    },
    {
      "cell_type": "code",
      "execution_count": 9,
      "metadata": {
        "colab": {
          "base_uri": "https://localhost:8080/"
        },
        "id": "gk-O4Xitkrtr",
        "outputId": "2e11f0c9-f667-40e1-9398-666e0418f810"
      },
      "outputs": [
        {
          "data": {
            "text/plain": [
              "odict_keys(['Sample001', 'Sample002', 'Sample003', 'Sample004', 'Sample005', 'Sample006', 'Sample007', 'Sample008', 'Sample009', 'Sample010', 'Sample011', 'Sample012', 'Sample013', 'Sample014', 'Sample015', 'Sample016', 'Sample017', 'Sample018', 'Sample019', 'Sample020', 'Sample021', 'Sample022', 'Sample023', 'Sample024', 'Sample025', 'Sample026', 'Sample027', 'Sample028', 'Sample029', 'Sample030', 'Sample031', 'Sample032', 'Sample033', 'Sample034', 'Sample035', 'Sample036', 'Sample037', 'Sample038', 'Sample039', 'Sample040', 'Sample041', 'Sample042', 'Sample043', 'Sample044', 'Sample045', 'Sample046', 'Sample047', 'Sample048', 'Sample049', 'Sample050', 'Sample051', 'Sample052', 'Sample053', 'Sample054', 'Sample055', 'Sample056', 'Sample057', 'Sample058', 'Sample059', 'Sample060', 'Sample061', 'Sample062'])"
            ]
          },
          "execution_count": 9,
          "metadata": {},
          "output_type": "execute_result"
        }
      ],
      "source": [
        "dict1 = OrderedDict(sorted(files.items()))\n",
        "dict1.keys()"
      ]
    },
    {
      "cell_type": "code",
      "execution_count": 10,
      "metadata": {
        "id": "Nw37bjy2k17A"
      },
      "outputs": [],
      "source": [
        "f = open(\"labels.txt\", \"a\")\n",
        "for i in dict1.keys():\n",
        "  for j in dict1[i]:\n",
        "    f.write(\"English/Img/GoodImg\"+i+\"/\"+j+\"\\n\")\n",
        "f.close()"
      ]
    },
    {
      "cell_type": "code",
      "execution_count": 11,
      "metadata": {
        "id": "-4KSEEPCk7YK"
      },
      "outputs": [],
      "source": [
        "l=\"0123456789ABCDEFGHIJKLMNOPQRSTUVWXYZabcdefghijklmnopqrstuvwxyz\""
      ]
    },
    {
      "cell_type": "code",
      "execution_count": 12,
      "metadata": {
        "id": "-PwGawook9uj"
      },
      "outputs": [],
      "source": [
        "data=[]\n",
        "labels=[]\n",
        "tmp=0"
      ]
    },
    {
      "cell_type": "code",
      "execution_count": 13,
      "metadata": {
        "id": "bAs2wnM4k_qk"
      },
      "outputs": [],
      "source": [
        "img=cv2.imread('/gdrive/MyDrive/Colab Notebooks/English/Img/GoodImg/Bmp/Sample041/img041-00215.png')"
      ]
    },
    {
      "cell_type": "code",
      "execution_count": 14,
      "metadata": {
        "colab": {
          "base_uri": "https://localhost:8080/"
        },
        "id": "k2ZhxlTPlHxM",
        "outputId": "908558f7-b3f6-452b-ec8b-dca9c5e6fa4b"
      },
      "outputs": [
        {
          "data": {
            "text/plain": [
              "(80, 71, 3)"
            ]
          },
          "execution_count": 14,
          "metadata": {},
          "output_type": "execute_result"
        }
      ],
      "source": [
        "img.shape"
      ]
    },
    {
      "cell_type": "code",
      "execution_count": 15,
      "metadata": {
        "id": "RRwFgchjlKab"
      },
      "outputs": [],
      "source": [
        "img = cv2.cvtColor(cv2.imread('/gdrive/MyDrive/Colab Notebooks/English/Img/GoodImg/Bmp/Sample041/img041-00215.png'), cv2.COLOR_BGR2GRAY)"
      ]
    },
    {
      "cell_type": "code",
      "execution_count": 16,
      "metadata": {
        "colab": {
          "base_uri": "https://localhost:8080/",
          "height": 97
        },
        "id": "7dA-M0aKlPDt",
        "outputId": "6bd19185-dc92-40b9-aefa-24246dc163cc"
      },
      "outputs": [
        {
          "data": {
            "image/png": "[encoded data removed]",
            "text/plain": [
              "<PIL.Image.Image image mode=RGB size=71x80 at 0x7FC2E392D090>"
            ]
          },
          "metadata": {},
          "output_type": "display_data"
        }
      ],
      "source": [
        "cv2_imshow(cv2.imread('/gdrive/MyDrive/Colab Notebooks/English/Img/GoodImg/Bmp/Sample041/img041-00215.png'))"
      ]
    },
    {
      "cell_type": "code",
      "execution_count": 17,
      "metadata": {
        "colab": {
          "base_uri": "https://localhost:8080/",
          "height": 97
        },
        "id": "vHwM0juXlTqE",
        "outputId": "26469e8c-f7a3-49c4-bccf-56c30b763730"
      },
      "outputs": [
        {
          "data": {
            "image/png": "[encoded data removed]",
            "text/plain": [
              "<PIL.Image.Image image mode=L size=71x80 at 0x7FC2E392D250>"
            ]
          },
          "metadata": {},
          "output_type": "display_data"
        }
      ],
      "source": [
        "cv2_imshow(img)"
      ]
    },
    {
      "cell_type": "code",
      "execution_count": 18,
      "metadata": {
        "id": "P_cDaq_ul9b8"
      },
      "outputs": [],
      "source": [
        "def conTO28x28(path):\n",
        "  #img = cv2.cvtColor(cv2.imread('/gdrive/MyDrive/Colab Notebooks/OCR/Data/English/Img/GoodImg/Bmp/Sample041/img041-00190.png'), cv2.COLOR_BGR2GRAY)   \n",
        "  img = cv2.cvtColor(cv2.imread(path), cv2.COLOR_BGR2GRAY)   \n",
        "\n",
        "  # convert each image of shape (32, 28, 1)\n",
        "  w, h = img.shape\n",
        "  if h > 28 or w > 28:\n",
        "    (tH, tW) = img.shape\n",
        "    dX = int(max(0, 28 - tW) / 2.0)\n",
        "    dY = int(max(0, 28 - tH) / 2.0)\n",
        "\n",
        "    img = cv2.copyMakeBorder(img, top=dY, bottom=dY,\n",
        "          left=dX, right=dX, borderType=cv2.BORDER_CONSTANT,\n",
        "          value=(0, 0, 0))\n",
        "    img = cv2.resize(img, (28, 28))\n",
        "\n",
        "  w, h = img.shape\n",
        "\n",
        "  if w < 28:\n",
        "      add_zeros = np.ones((28-w, h))*255\n",
        "      img = np.concatenate((img, add_zeros))\n",
        "\n",
        "  if h < 28:\n",
        "      add_zeros = np.ones((28, 28-h))*255\n",
        "      img = np.concatenate((img, add_zeros), axis=1)\n",
        "  #img = np.expand_dims(img, axis=2)\n",
        "  # Normalize each image\n",
        "  return img"
      ]
    },
    {
      "cell_type": "code",
      "execution_count": 19,
      "metadata": {
        "colab": {
          "base_uri": "https://localhost:8080/",
          "height": 113
        },
        "id": "1X6FFaEymYfe",
        "outputId": "3a970781-197e-43dc-bf66-d442eb088ce1"
      },
      "outputs": [
        {
          "data": {
            "image/png": "[encoded data removed]",
            "text/plain": [
              "<PIL.Image.Image image mode=RGB size=103x96 at 0x7FC2E39A57D0>"
            ]
          },
          "metadata": {},
          "output_type": "display_data"
        }
      ],
      "source": [
        "cv2_imshow(cv2.imread('/gdrive/MyDrive/Colab Notebooks/English/Img/GoodImg/Bmp/Sample001/img001-00001.png'))"
      ]
    },
    {
      "cell_type": "code",
      "execution_count": 20,
      "metadata": {
        "id": "vRe1emOkmeMr"
      },
      "outputs": [],
      "source": [
        "image = conTO28x28('/gdrive/MyDrive/Colab Notebooks/English/Img/GoodImg/Bmp/Sample001/img001-00001.png')"
      ]
    },
    {
      "cell_type": "code",
      "execution_count": 21,
      "metadata": {
        "colab": {
          "base_uri": "https://localhost:8080/"
        },
        "id": "HQ-mTKWDmh85",
        "outputId": "de726a8d-0c7f-41c8-b7d9-97335178525c"
      },
      "outputs": [
        {
          "data": {
            "text/plain": [
              "(28, 28)"
            ]
          },
          "execution_count": 21,
          "metadata": {},
          "output_type": "execute_result"
        }
      ],
      "source": [
        "image.shape"
      ]
    },
    {
      "cell_type": "code",
      "execution_count": 22,
      "metadata": {
        "colab": {
          "base_uri": "https://localhost:8080/",
          "height": 45
        },
        "id": "F0xuZTgNm2ZH",
        "outputId": "265f2101-18a5-406a-bce6-4e836655edc4"
      },
      "outputs": [
        {
          "data": {
            "image/png": "[encoded data removed]",
            "text/plain": [
              "<PIL.Image.Image image mode=L size=28x28 at 0x7FC2E3928490>"
            ]
          },
          "metadata": {},
          "output_type": "display_data"
        }
      ],
      "source": [
        "cv2_imshow(image)"
      ]
    },
    {
      "cell_type": "code",
      "execution_count": 23,
      "metadata": {
        "id": "1eVYgLFNm5nV"
      },
      "outputs": [],
      "source": [
        "for i in dict1.keys():\n",
        "  for j in dict1[i]:\n",
        "    # labels list contains labels of images \n",
        "    labels.append(tmp)\n",
        "    #image=cv2.imread('/gdrive/MyDrive/Colab Notebooks/English/Img/GoodImg/Bmp/'+i+\"/\"+j)\n",
        "    image = conTO28x28('/gdrive/MyDrive/Colab Notebooks//English/Img/GoodImg/Bmp/'+i+\"/\"+j)\n",
        "    # Data list containing images in the form of numpy array \n",
        "    data.append(image)\n",
        "  tmp+=1"
      ]
    },
    {
      "cell_type": "code",
      "execution_count": 24,
      "metadata": {
        "id": "IWaJSq6AnBVM"
      },
      "outputs": [],
      "source": [
        "from numpy import save"
      ]
    },
    {
      "cell_type": "code",
      "execution_count": 25,
      "metadata": {
        "colab": {
          "base_uri": "https://localhost:8080/"
        },
        "id": "jwa27OcInIQx",
        "outputId": "a775ba27-c3db-4727-aaa7-ac92762b665b"
      },
      "outputs": [
        {
          "data": {
            "text/plain": [
              "7705"
            ]
          },
          "execution_count": 25,
          "metadata": {},
          "output_type": "execute_result"
        }
      ],
      "source": [
        "len(labels)"
      ]
    },
    {
      "cell_type": "code",
      "execution_count": 26,
      "metadata": {
        "id": "Ai8ZqS9HnNsk"
      },
      "outputs": [],
      "source": [
        "labels = np.array(labels, dtype=\"int\")\n",
        "data = np.array(data, dtype='float32')"
      ]
    },
    {
      "cell_type": "code",
      "execution_count": 27,
      "metadata": {
        "colab": {
          "base_uri": "https://localhost:8080/"
        },
        "id": "Jz2CrWuBnRSP",
        "outputId": "8a31e361-d229-4a50-ee2c-8dc2ce518f93"
      },
      "outputs": [
        {
          "data": {
            "text/plain": [
              "62"
            ]
          },
          "execution_count": 27,
          "metadata": {},
          "output_type": "execute_result"
        }
      ],
      "source": [
        "tmp"
      ]
    },
    {
      "cell_type": "code",
      "execution_count": 28,
      "metadata": {
        "colab": {
          "base_uri": "https://localhost:8080/"
        },
        "id": "CquI4PE5nSha",
        "outputId": "283e56ad-9770-4d05-dbfb-2134cdf0a663"
      },
      "outputs": [
        {
          "data": {
            "text/plain": [
              "array([ 0,  0,  0, ..., 61, 61, 61])"
            ]
          },
          "execution_count": 28,
          "metadata": {},
          "output_type": "execute_result"
        }
      ],
      "source": [
        "labels"
      ]
    },
    {
      "cell_type": "code",
      "execution_count": 29,
      "metadata": {
        "id": "k5PkHDVZnUC8"
      },
      "outputs": [],
      "source": [
        "save('data.npy', data)\n",
        "save('labels.npy', labels)"
      ]
    },
    {
      "cell_type": "code",
      "execution_count": 30,
      "metadata": {
        "colab": {
          "base_uri": "https://localhost:8080/"
        },
        "id": "cDWPc8fwnWj6",
        "outputId": "7c6947f0-481e-41e6-db7c-1ede1d2c11bf"
      },
      "outputs": [
        {
          "data": {
            "text/plain": [
              "(7705, 28, 28)"
            ]
          },
          "execution_count": 30,
          "metadata": {},
          "output_type": "execute_result"
        }
      ],
      "source": [
        "tmp_data = np.load('data.npy')\n",
        "tmp_data.shape"
      ]
    },
    {
      "cell_type": "code",
      "execution_count": 31,
      "metadata": {
        "id": "RjL6PqpXnbT_"
      },
      "outputs": [],
      "source": [
        "from tensorflow.keras.datasets import mnist\n",
        "import numpy as np"
      ]
    },
    {
      "cell_type": "code",
      "execution_count": 32,
      "metadata": {
        "id": "frSKh1VMnh2k"
      },
      "outputs": [],
      "source": [
        "def load_az_dataset(datasetPath):\n",
        "  data = []\n",
        "  labels = []\n",
        "  for row in open(datasetPath):\n",
        "    row = row.split(\",\")\n",
        "    label = int(row[0])\n",
        "    image = np.array([int(x) for x in row[1:]], dtype=\"uint8\")\n",
        "    image = image.reshape((28, 28))\n",
        "    data.append(image)\n",
        "    labels.append(label)\n",
        "  data = np.array(data, dtype='float32')\n",
        "  labels = np.array(labels, dtype=\"int\")\n",
        "  return (data, labels)"
      ]
    },
    {
      "cell_type": "code",
      "execution_count": 33,
      "metadata": {
        "id": "_088zmAankZ7"
      },
      "outputs": [],
      "source": [
        "((trainData, trainLabels), (testData, testLabels)) = mnist.load_data()\n",
        "(azData, azLabels) = load_az_dataset('/gdrive/MyDrive/A_Z_Handwritten_Data.csv')"
      ]
    },
    {
      "cell_type": "code",
      "execution_count": 34,
      "metadata": {
        "colab": {
          "base_uri": "https://localhost:8080/"
        },
        "id": "ZsqaU4_Pn4aL",
        "outputId": "a4869805-59ac-45d2-d674-2d73450ac15f"
      },
      "outputs": [
        {
          "data": {
            "text/plain": [
              "(372451, 28, 28)"
            ]
          },
          "execution_count": 34,
          "metadata": {},
          "output_type": "execute_result"
        }
      ],
      "source": [
        "azData.shape"
      ]
    },
    {
      "cell_type": "code",
      "execution_count": 35,
      "metadata": {
        "id": "8swh5EoLn-yS"
      },
      "outputs": [],
      "source": [
        "mnist_data = np.vstack([trainData, testData])\n",
        "mnist_labels = np.hstack([trainLabels, testLabels])"
      ]
    },
    {
      "cell_type": "code",
      "execution_count": 36,
      "metadata": {
        "colab": {
          "base_uri": "https://localhost:8080/"
        },
        "id": "rEFx-ciLn_dh",
        "outputId": "00d98e9e-832f-455a-b01f-f8ff0f41eb37"
      },
      "outputs": [
        {
          "data": {
            "text/plain": [
              "(60000, 28, 28)"
            ]
          },
          "execution_count": 36,
          "metadata": {},
          "output_type": "execute_result"
        }
      ],
      "source": [
        "trainData.shape"
      ]
    },
    {
      "cell_type": "code",
      "execution_count": 37,
      "metadata": {
        "colab": {
          "base_uri": "https://localhost:8080/"
        },
        "id": "RJMycKKKoCQ9",
        "outputId": "5b9d22d7-d31b-4563-8910-dc66285b7c5c"
      },
      "outputs": [
        {
          "data": {
            "text/plain": [
              "(28, 28)"
            ]
          },
          "execution_count": 37,
          "metadata": {},
          "output_type": "execute_result"
        }
      ],
      "source": [
        "mnist_data[0].shape"
      ]
    },
    {
      "cell_type": "code",
      "execution_count": 38,
      "metadata": {
        "colab": {
          "base_uri": "https://localhost:8080/"
        },
        "id": "ea3B5TWzoFqx",
        "outputId": "84e75f92-7811-4466-b9ff-92b7da5a1a99"
      },
      "outputs": [
        {
          "data": {
            "text/plain": [
              "(7705,)"
            ]
          },
          "execution_count": 38,
          "metadata": {},
          "output_type": "execute_result"
        }
      ],
      "source": [
        "labels.shape"
      ]
    },
    {
      "cell_type": "code",
      "execution_count": 39,
      "metadata": {
        "id": "Zefa7kiXoMNV"
      },
      "outputs": [],
      "source": [
        "azLabels+=10"
      ]
    },
    {
      "cell_type": "code",
      "execution_count": 40,
      "metadata": {
        "id": "6UKwnpMHoPtd"
      },
      "outputs": [],
      "source": [
        "labels1=np.hstack([mnist_labels,labels,azLabels])\n",
        "data1=np.vstack([mnist_data,data,azData])"
      ]
    },
    {
      "cell_type": "code",
      "execution_count": 41,
      "metadata": {
        "colab": {
          "base_uri": "https://localhost:8080/"
        },
        "id": "A39HesmYoRah",
        "outputId": "b3f83272-7347-47fb-9787-8944f59ffc6d"
      },
      "outputs": [
        {
          "name": "stdout",
          "output_type": "stream",
          "text": [
            "(450156,)\n",
            "(450156, 28, 28)\n"
          ]
        }
      ],
      "source": [
        "print(labels1.shape)\n",
        "print(data1.shape)"
      ]
    },
    {
      "cell_type": "code",
      "execution_count": 42,
      "metadata": {
        "id": "dHeYizpFpU-Y"
      },
      "outputs": [],
      "source": [
        "save('/gdrive/MyDrive/Colab Notebooks/combined_data.npy', data1)\n",
        "save('/gdrive/MyDrive/Colab Notebooks/combine_labels.npy', labels1)"
      ]
    },
    {
      "cell_type": "code",
      "execution_count": 43,
      "metadata": {
        "id": "6QuI2SsjpaJ1"
      },
      "outputs": [],
      "source": [
        "loaded_data = np.load('/gdrive/MyDrive/Colab Notebooks/combined_data.npy')\n",
        "loaded_labels = np.load('/gdrive/MyDrive/Colab Notebooks/combine_labels.npy')"
      ]
    },
    {
      "cell_type": "code",
      "execution_count": 44,
      "metadata": {
        "colab": {
          "base_uri": "https://localhost:8080/"
        },
        "id": "Mcocw82Zpf5A",
        "outputId": "42d4ebaa-dbd6-4988-f3cb-c6fc7116a256"
      },
      "outputs": [
        {
          "name": "stdout",
          "output_type": "stream",
          "text": [
            "(450156, 28, 28)\n",
            "(450156,)\n"
          ]
        }
      ],
      "source": [
        "print(loaded_data.shape)\n",
        "print(loaded_labels.shape)"
      ]
    },
    {
      "cell_type": "code",
      "execution_count": 45,
      "metadata": {
        "colab": {
          "base_uri": "https://localhost:8080/",
          "height": 45
        },
        "id": "NeSMde00plCW",
        "outputId": "07c067e2-2cf9-4151-cb80-129509f4aac1"
      },
      "outputs": [
        {
          "data": {
            "image/png": "[encoded data removed]",
            "text/plain": [
              "<PIL.Image.Image image mode=L size=28x28 at 0x7FC2E3029290>"
            ]
          },
          "metadata": {},
          "output_type": "display_data"
        }
      ],
      "source": [
        "cv2_imshow(loaded_data[-50000])"
      ]
    },
    {
      "cell_type": "code",
      "execution_count": 46,
      "metadata": {
        "id": "MiUxzivopnLr"
      },
      "outputs": [],
      "source": [
        "tmp_image = cv2.resize(loaded_data[0], (32, 32))"
      ]
    },
    {
      "cell_type": "code",
      "execution_count": 47,
      "metadata": {
        "colab": {
          "base_uri": "https://localhost:8080/"
        },
        "id": "YilRbLqbpo8k",
        "outputId": "36efd014-20d3-499f-dace-194f93ab5e40"
      },
      "outputs": [
        {
          "data": {
            "text/plain": [
              "(32, 32)"
            ]
          },
          "execution_count": 47,
          "metadata": {},
          "output_type": "execute_result"
        }
      ],
      "source": [
        "tmp_image.shape"
      ]
    },
    {
      "cell_type": "code",
      "execution_count": 48,
      "metadata": {
        "id": "v1xqz__UpqT7"
      },
      "outputs": [],
      "source": [
        "data = [cv2.resize(image, (32, 32)) for image in loaded_data]\n",
        "data = np.array(data, dtype=\"float32\")"
      ]
    },
    {
      "cell_type": "code",
      "execution_count": 49,
      "metadata": {
        "colab": {
          "base_uri": "https://localhost:8080/"
        },
        "id": "NAeSrWZApz2q",
        "outputId": "e4e565c0-65eb-47d3-cec9-4d605a433f09"
      },
      "outputs": [
        {
          "data": {
            "text/plain": [
              "(450156, 32, 32)"
            ]
          },
          "execution_count": 49,
          "metadata": {},
          "output_type": "execute_result"
        }
      ],
      "source": [
        "data.shape"
      ]
    },
    {
      "cell_type": "code",
      "execution_count": 50,
      "metadata": {
        "id": "wUGdN8wKp2Fu"
      },
      "outputs": [],
      "source": [
        "data2 = np.expand_dims(data, axis=-1)"
      ]
    },
    {
      "cell_type": "code",
      "execution_count": 51,
      "metadata": {
        "colab": {
          "base_uri": "https://localhost:8080/"
        },
        "id": "cS0Eeqngp-zg",
        "outputId": "0ba8d96a-5bf3-446e-9468-a787b11045eb"
      },
      "outputs": [
        {
          "data": {
            "text/plain": [
              "(450156, 32, 32, 1)"
            ]
          },
          "execution_count": 51,
          "metadata": {},
          "output_type": "execute_result"
        }
      ],
      "source": [
        "data2.shape"
      ]
    },
    {
      "cell_type": "code",
      "execution_count": 52,
      "metadata": {
        "colab": {
          "base_uri": "https://localhost:8080/"
        },
        "id": "elXmv577qAaS",
        "outputId": "594df51c-fcc8-4132-d01b-70fb97919d08"
      },
      "outputs": [
        {
          "data": {
            "text/plain": [
              "array([0, 0, 0, 0, 0, 1, 0, 0, 0, 0, 0, 0, 0, 0, 0, 0, 0, 0, 0, 0, 0, 0,\n",
              "       0, 0, 0, 0, 0, 0, 0, 0, 0, 0, 0, 0, 0, 0, 0, 0, 0, 0, 0, 0, 0, 0,\n",
              "       0, 0, 0, 0, 0, 0, 0, 0, 0, 0, 0, 0, 0, 0, 0, 0, 0, 0])"
            ]
          },
          "execution_count": 52,
          "metadata": {},
          "output_type": "execute_result"
        }
      ],
      "source": [
        "le = LabelBinarizer()\n",
        "labels = le.fit_transform(loaded_labels)\n",
        "counts = labels.sum(axis=0)\n",
        "labels[0]"
      ]
    },
    {
      "cell_type": "code",
      "execution_count": 53,
      "metadata": {
        "colab": {
          "base_uri": "https://localhost:8080/"
        },
        "id": "5h3KGJJQqIGy",
        "outputId": "7c11b8f5-3fe1-4941-965f-a48c1adc6e14"
      },
      "outputs": [
        {
          "data": {
            "text/plain": [
              "{0: 8.305793378995434,\n",
              " 1: 7.316113624937154,\n",
              " 2: 8.244617563739377,\n",
              " 3: 8.094423585036852,\n",
              " 4: 8.471401542715762,\n",
              " 5: 9.127646228634154,\n",
              " 6: 8.387175792507204,\n",
              " 7: 7.929028742678109,\n",
              " 8: 8.488697681201693,\n",
              " 9: 8.324799771167047,\n",
              " 10: 4.034308289437205,\n",
              " 11: 6.6272344301491515,\n",
              " 12: 2.463892651540806,\n",
              " 13: 5.637481840193705,\n",
              " 14: 4.897105838801952,\n",
              " 15: 46.86553945249597,\n",
              " 16: 9.857239627434378,\n",
              " 17: 7.85413574416408,\n",
              " 18: 40.933192686357245,\n",
              " 19: 6.791948658109685,\n",
              " 20: 10.22071992976295,\n",
              " 21: 4.932378611982036,\n",
              " 22: 4.662154585502603,\n",
              " 23: 3.004542404377226,\n",
              " 24: 1.0,\n",
              " 25: 2.984974358974359,\n",
              " 26: 9.955019668205917,\n",
              " 27: 4.868841488916771,\n",
              " 28: 1.1937203912963228,\n",
              " 29: 2.5521550401192616,\n",
              " 30: 2.000240549828179,\n",
              " 31: 13.644397562119082,\n",
              " 32: 5.364206063957239,\n",
              " 33: 9.163570528967254,\n",
              " 34: 5.327384221123925,\n",
              " 35: 9.493883542652096,\n",
              " 36: 368.3987341772152,\n",
              " 37: 1531.7631578947369,\n",
              " 38: 923.9206349206349,\n",
              " 39: 1265.3695652173913,\n",
              " 40: 256.4185022026432,\n",
              " 41: 1573.162162162162,\n",
              " 42: 1616.861111111111,\n",
              " 43: 1119.3653846153845,\n",
              " 44: 458.3228346456693,\n",
              " 45: 1763.8484848484848,\n",
              " 46: 1711.9705882352941,\n",
              " 47: 1003.5689655172414,\n",
              " 48: 1353.6511627906978,\n",
              " 49: 431.162962962963,\n",
              " 50: 393.2905405405405,\n",
              " 51: 1573.162162162162,\n",
              " 52: 1077.9074074074074,\n",
              " 53: 461.96031746031747,\n",
              " 54: 469.41129032258067,\n",
              " 55: 524.3873873873874,\n",
              " 56: 1419.6829268292684,\n",
              " 57: 1763.8484848484848,\n",
              " 58: 1616.861111111111,\n",
              " 59: 1663.057142857143,\n",
              " 60: 1353.6511627906978,\n",
              " 61: 1663.057142857143}"
            ]
          },
          "execution_count": 53,
          "metadata": {},
          "output_type": "execute_result"
        }
      ],
      "source": [
        "classTotals = labels.sum(axis=0)\n",
        "classWeight = {}\n",
        "# loop over all classes and calculate the class weight\n",
        "for i in range(0, len(classTotals)):\n",
        "\tclassWeight[i] = classTotals.max() / classTotals[i]\n",
        "\n",
        "classWeight"
      ]
    },
    {
      "cell_type": "code",
      "execution_count": 54,
      "metadata": {
        "colab": {
          "base_uri": "https://localhost:8080/"
        },
        "id": "t0afHolvqINt",
        "outputId": "dec86847-e5ef-49ef-ae1b-952cf25988f4"
      },
      "outputs": [
        {
          "name": "stdout",
          "output_type": "stream",
          "text": [
            "Data shape: - (450156, 32, 32, 1)\n",
            "labels shape: - (450156, 62)\n"
          ]
        }
      ],
      "source": [
        "print(\"Data shape: -\",data2.shape)\n",
        "print(\"labels shape: -\",labels.shape)"
      ]
    },
    {
      "cell_type": "code",
      "execution_count": 55,
      "metadata": {
        "id": "de8JcLY1qR6d"
      },
      "outputs": [],
      "source": [
        "(trainX, testX, trainY, testY) = train_test_split(data2,\n",
        "\tlabels, test_size=0.20, stratify=labels, random_state=42)"
      ]
    },
    {
      "cell_type": "code",
      "execution_count": 56,
      "metadata": {
        "colab": {
          "base_uri": "https://localhost:8080/"
        },
        "id": "_o2zZvbvqZqL",
        "outputId": "b688557b-5f62-4243-8f0a-9758c212b580"
      },
      "outputs": [
        {
          "data": {
            "text/plain": [
              "(360124, 32, 32, 1)"
            ]
          },
          "execution_count": 56,
          "metadata": {},
          "output_type": "execute_result"
        }
      ],
      "source": [
        "trainX.shape"
      ]
    },
    {
      "cell_type": "code",
      "execution_count": 57,
      "metadata": {
        "id": "NwCbL52Rqd2E"
      },
      "outputs": [],
      "source": [
        "aug = ImageDataGenerator(\n",
        "    rotation_range=10,\n",
        "    zoom_range=0.05,\n",
        "    width_shift_range=0.1,\n",
        "    height_shift_range=0.1,\n",
        "    shear_range=0.15,\n",
        "    horizontal_flip=False,\n",
        "    fill_mode=\"nearest\")"
      ]
    },
    {
      "cell_type": "code",
      "execution_count": 58,
      "metadata": {
        "id": "rdJCmaEEqi31"
      },
      "outputs": [],
      "source": [
        "from tensorflow.keras.layers import BatchNormalization\n",
        "from keras.layers.convolutional import Conv2D\n",
        "from keras.layers.convolutional import AveragePooling2D\n",
        "from keras.layers.convolutional import MaxPooling2D\n",
        "from keras.layers.convolutional import ZeroPadding2D\n",
        "from keras.layers.core import Activation\n",
        "from keras.layers.core import Dense\n",
        "from keras.layers import Flatten\n",
        "from keras.layers import Input\n",
        "from keras.models import Model\n",
        "from keras.layers import add\n",
        "from keras.regularizers import l2\n",
        "from keras import backend as K"
      ]
    },
    {
      "cell_type": "code",
      "execution_count": 59,
      "metadata": {
        "id": "t_jd5BfTr88r"
      },
      "outputs": [],
      "source": [
        "class ResNet:\n",
        "    @staticmethod\n",
        "    def residual_module(data, K, stride, chanDim, red=False,\n",
        "        reg=0.0001, bnEps=2e-5, bnMom=0.9):\n",
        "        # the shortcut branch of the ResNet module should be\n",
        "        # initialize as the input (identity) data\n",
        "        shortcut = data\n",
        "\n",
        "        # the first block of the ResNet module are the 1x1 CONVs\n",
        "        bn1 = BatchNormalization(axis=chanDim, epsilon=bnEps,\n",
        "        momentum=bnMom)(data)\n",
        "        act1 = Activation(\"relu\")(bn1)\n",
        "        conv1 = Conv2D(int(K * 0.25), (1, 1), use_bias=False,\n",
        "        kernel_regularizer=l2(reg))(act1)\n",
        "\n",
        "        # the second block of the ResNet module are the 3x3 CONVs\n",
        "        bn2 = BatchNormalization(axis=chanDim, epsilon=bnEps,\n",
        "            momentum=bnMom)(conv1)\n",
        "        act2 = Activation(\"relu\")(bn2)\n",
        "        conv2 = Conv2D(int(K * 0.25), (3, 3), strides=stride,\n",
        "            padding=\"same\", use_bias=False,\n",
        "            kernel_regularizer=l2(reg))(act2)\n",
        "\n",
        "        # the third block of the ResNet module is another set of 1x1\n",
        "        # CONVs\n",
        "        bn3 = BatchNormalization(axis=chanDim, epsilon=bnEps,\n",
        "            momentum=bnMom)(conv2)\n",
        "        act3 = Activation(\"relu\")(bn3)\n",
        "        conv3 = Conv2D(K, (1, 1), use_bias=False,\n",
        "            kernel_regularizer=l2(reg))(act3)\n",
        "\n",
        "        # if we are to reduce the spatial size, apply a CONV layer to\n",
        "        # the shortcut\n",
        "        if red:\n",
        "            shortcut = Conv2D(K, (1, 1), strides=stride,\n",
        "                use_bias=False, kernel_regularizer=l2(reg))(act1)\n",
        "        # add together the shortcut and the final CONV\n",
        "        x = add([conv3, shortcut])\n",
        "\n",
        "        # return the addition as the output of the ResNet module\n",
        "        return x\n",
        "    \n",
        "    @staticmethod\n",
        "    def build(width, height, depth, classes, stages, filters,\n",
        "        reg=0.0001, bnEps=2e-5, bnMom=0.9, dataset=\"cifar\"):\n",
        "        # initialize the input shape to be \"channels last\" and the\n",
        "        # channels dimension itself\n",
        "        inputShape = (height, width, depth)\n",
        "        chanDim = -1\n",
        "\n",
        "        # if we are using \"channels first\", update the input shape\n",
        "        # and channels dimension\n",
        "        if K.image_data_format() == \"channels_first\":\n",
        "            inputShape = (depth, height, width)\n",
        "            chanDim = 1\n",
        "\n",
        "        # set the input and apply BN\n",
        "        inputs = Input(shape=inputShape)\n",
        "        x = BatchNormalization(axis=chanDim, epsilon=bnEps,\n",
        "            momentum=bnMom)(inputs)\n",
        "\n",
        "        # check if we are utilizing the CIFAR dataset\n",
        "        if dataset == \"cifar\":\n",
        "            # apply a single CONV layer\n",
        "            x = Conv2D(filters[0], (3, 3), use_bias=False,\n",
        "            padding=\"same\", kernel_regularizer=l2(reg))(x)\n",
        "\n",
        "        # check to see if we are using the Tiny ImageNet dataset\n",
        "        elif dataset == \"tiny_imagenet\":\n",
        "            # apply CONV => BN => ACT => POOL to reduce spatial size\n",
        "            x = Conv2D(filters[0], (5, 5), use_bias=False,\n",
        "                padding=\"same\", kernel_regularizer=l2(reg))(x)\n",
        "            x = BatchNormalization(axis=chanDim, epsilon=bnEps,\n",
        "            momentum=bnMom)(x)\n",
        "            x = Activation(\"relu\")(x)\n",
        "            x = ZeroPadding2D((1, 1))(x)\n",
        "            x = MaxPooling2D((3, 3), strides=(2, 2))(x)\n",
        "        \n",
        "        # loop over the number of stages\n",
        "        for i in range(0, len(stages)):\n",
        "            # initialize the stride, then apply a residual module\n",
        "            # used to reduce the spatial size of the input volume\n",
        "            stride = (1, 1) if i == 0 else (2, 2)\n",
        "            x = ResNet.residual_module(x, filters[i + 1], stride,\n",
        "                chanDim, red=True, bnEps=bnEps, bnMom=bnMom)\n",
        "\n",
        "            # loop over the number of layers in the stage\n",
        "            for j in range(0, stages[i] - 1):\n",
        "                # apply a ResNet module\n",
        "                x = ResNet.residual_module(x, filters[i + 1],\n",
        "                    (1, 1), chanDim, bnEps=bnEps, bnMom=bnMom)\n",
        "            \n",
        "            # apply BN => ACT => POOL\n",
        "        x = BatchNormalization(axis=chanDim, epsilon=bnEps,\n",
        "            momentum=bnMom)(x)\n",
        "        x = Activation(\"relu\")(x)\n",
        "        x = AveragePooling2D((8, 8))(x)\n",
        "\n",
        "        # softmax classifier\n",
        "        x = Flatten()(x)\n",
        "        x = Dense(classes, kernel_regularizer=l2(reg))(x)\n",
        "        x = Activation(\"softmax\")(x)\n",
        "\n",
        "        # create the model\n",
        "        model = Model(inputs, x, name=\"resnet\")\n",
        "\n",
        "        # return the constructed network architecture\n",
        "        return model"
      ]
    },
    {
      "cell_type": "code",
      "execution_count": 60,
      "metadata": {
        "id": "UO4JPbPrsJQo"
      },
      "outputs": [],
      "source": [
        "EPOCHS = 10 # Train mode for 50 epochs\n",
        "INIT_LR = 1e-1 # Take initial learning rate as 0.01\n",
        "BS = 64 # Taking batch size of 256\n"
      ]
    },
    {
      "cell_type": "code",
      "execution_count": 61,
      "metadata": {
        "colab": {
          "base_uri": "https://localhost:8080/"
        },
        "id": "vGhx1VuvsLdC",
        "outputId": "e61f3874-a0f5-4362-964c-8fb91dc811bd"
      },
      "outputs": [
        {
          "data": {
            "text/plain": [
              "array([ 0,  1,  2,  3,  4,  5,  6,  7,  8,  9, 10, 11, 12, 13, 14, 15, 16,\n",
              "       17, 18, 19, 20, 21, 22, 23, 24, 25, 26, 27, 28, 29, 30, 31, 32, 33,\n",
              "       34, 35, 36, 37, 38, 39, 40, 41, 42, 43, 44, 45, 46, 47, 48, 49, 50,\n",
              "       51, 52, 53, 54, 55, 56, 57, 58, 59, 60, 61])"
            ]
          },
          "execution_count": 61,
          "metadata": {},
          "output_type": "execute_result"
        }
      ],
      "source": [
        "le.classes_"
      ]
    },
    {
      "cell_type": "code",
      "execution_count": 62,
      "metadata": {
        "colab": {
          "base_uri": "https://localhost:8080/"
        },
        "id": "cf20Xg5MsNTA",
        "outputId": "a5fea156-a865-4040-eba3-64322d3bd544"
      },
      "outputs": [
        {
          "name": "stdout",
          "output_type": "stream",
          "text": [
            "[INFO] compiling model...\n"
          ]
        }
      ],
      "source": [
        "print(\"[INFO] compiling model...\")\n",
        "opt = SGD(learning_rate=INIT_LR, decay=INIT_LR / EPOCHS) # Using SGD(Schotastic Gradient Descent) as optimizer\n",
        "\n",
        "model = ResNet.build(32, 32, 1, len(le.classes_), (3, 3, 3),\n",
        "\t(64, 64, 128, 256), reg=0.0005)\n",
        "\n",
        "model.compile(loss=\"categorical_crossentropy\", optimizer=opt,\n",
        "\tmetrics=[\"accuracy\"])"
      ]
    },
    {
      "cell_type": "code",
      "execution_count": 63,
      "metadata": {
        "id": "TqkQtuTUsPV8"
      },
      "outputs": [],
      "source": [
        "import numpy as np\n",
        "import os\n",
        "checkpoint_path = \"/gdrive/MyDrive/Colab Notebooks/CombineDatasetModels/training_1/cp.ckpt\""
      ]
    },
    {
      "cell_type": "code",
      "execution_count": 64,
      "metadata": {
        "id": "SonIbUKfsfCV"
      },
      "outputs": [],
      "source": [
        "checkpoint_dir = os.path.dirname(checkpoint_path)\n",
        "\n",
        "# Create a callback that saves the model's weights\n",
        "cp_callback = tf.keras.callbacks.ModelCheckpoint(filepath=checkpoint_path,\n",
        "                                                 save_weights_only=True,\n",
        "                                                 verbose=1)"
      ]
    },
    {
      "cell_type": "code",
      "execution_count": null,
      "metadata": {
        "colab": {
          "base_uri": "https://localhost:8080/"
        },
        "id": "UC44Sgsbsr87",
        "outputId": "536d3087-1154-4562-874c-6ecfc8095340"
      },
      "outputs": [
        {
          "name": "stdout",
          "output_type": "stream",
          "text": [
            "Epoch 1/10\n",
            "5625/5626 [============================>.] - ETA: 0s - loss: 90.0521 - accuracy: 0.0643\n",
            "Epoch 1: saving model to /gdrive/MyDrive/Colab Notebooks/CombineDatasetModels/training_1/cp.ckpt\n",
            "5626/5626 [==============================] - 247s 41ms/step - loss: 90.0494 - accuracy: 0.0643 - val_loss: 57.1963 - val_accuracy: 0.0967\n",
            "Epoch 2/10\n",
            "5626/5626 [==============================] - ETA: 0s - loss: 81.7595 - accuracy: 0.0858\n",
            "Epoch 2: saving model to /gdrive/MyDrive/Colab Notebooks/CombineDatasetModels/training_1/cp.ckpt\n",
            "5626/5626 [==============================] - 231s 41ms/step - loss: 81.7595 - accuracy: 0.0858 - val_loss: 56.7680 - val_accuracy: 0.1019\n",
            "Epoch 3/10\n",
            "5626/5626 [==============================] - ETA: 0s - loss: 81.1189 - accuracy: 0.0931\n",
            "Epoch 3: saving model to /gdrive/MyDrive/Colab Notebooks/CombineDatasetModels/training_1/cp.ckpt\n",
            "5626/5626 [==============================] - 225s 40ms/step - loss: 81.1189 - accuracy: 0.0931 - val_loss: 56.5022 - val_accuracy: 0.1156\n",
            "Epoch 4/10\n",
            "5625/5626 [============================>.] - ETA: 0s - loss: 80.7442 - accuracy: 0.0993\n",
            "Epoch 4: saving model to /gdrive/MyDrive/Colab Notebooks/CombineDatasetModels/training_1/cp.ckpt\n",
            "5626/5626 [==============================] - 225s 40ms/step - loss: 80.7443 - accuracy: 0.0993 - val_loss: 56.3316 - val_accuracy: 0.1112\n",
            "Epoch 5/10\n",
            "5625/5626 [============================>.] - ETA: 0s - loss: 80.5110 - accuracy: 0.1029\n",
            "Epoch 5: saving model to /gdrive/MyDrive/Colab Notebooks/CombineDatasetModels/training_1/cp.ckpt\n",
            "5626/5626 [==============================] - 232s 41ms/step - loss: 80.5090 - accuracy: 0.1029 - val_loss: 56.1926 - val_accuracy: 0.1188\n",
            "Epoch 6/10\n",
            "5626/5626 [==============================] - ETA: 0s - loss: 80.2425 - accuracy: 0.1065\n",
            "Epoch 6: saving model to /gdrive/MyDrive/Colab Notebooks/CombineDatasetModels/training_1/cp.ckpt\n",
            "5626/5626 [==============================] - 232s 41ms/step - loss: 80.2425 - accuracy: 0.1065 - val_loss: 56.0754 - val_accuracy: 0.1185\n",
            "Epoch 7/10\n",
            "5625/5626 [============================>.] - ETA: 0s - loss: 80.1005 - accuracy: 0.1074\n",
            "Epoch 7: saving model to /gdrive/MyDrive/Colab Notebooks/CombineDatasetModels/training_1/cp.ckpt\n",
            "5626/5626 [==============================] - 227s 40ms/step - loss: 80.0981 - accuracy: 0.1074 - val_loss: 55.9813 - val_accuracy: 0.1233\n",
            "Epoch 8/10\n",
            "5625/5626 [============================>.] - ETA: 0s - loss: 79.9784 - accuracy: 0.1134\n",
            "Epoch 8: saving model to /gdrive/MyDrive/Colab Notebooks/CombineDatasetModels/training_1/cp.ckpt\n",
            "5626/5626 [==============================] - 227s 40ms/step - loss: 79.9759 - accuracy: 0.1134 - val_loss: 55.9062 - val_accuracy: 0.1270\n",
            "Epoch 9/10\n",
            "5626/5626 [==============================] - ETA: 0s - loss: 79.8144 - accuracy: 0.1208\n",
            "Epoch 9: saving model to /gdrive/MyDrive/Colab Notebooks/CombineDatasetModels/training_1/cp.ckpt\n",
            "5626/5626 [==============================] - 230s 41ms/step - loss: 79.8144 - accuracy: 0.1208 - val_loss: 55.8253 - val_accuracy: 0.1362\n",
            "Epoch 10/10\n",
            "5625/5626 [============================>.] - ETA: 0s - loss: 79.7030 - accuracy: 0.1228"
          ]
        }
      ],
      "source": [
        "H = model.fit(\n",
        "\taug.flow(trainX, trainY, batch_size=BS),\n",
        "\tvalidation_data=(testX, testY),\n",
        "\tsteps_per_epoch=len(trainX) // BS,\n",
        "\tepochs=EPOCHS,\n",
        "\tclass_weight=classWeight,\n",
        "\tverbose=1,\n",
        "  callbacks=[cp_callback])\n"
      ]
    },
    {
      "cell_type": "code",
      "execution_count": null,
      "metadata": {
        "id": "OveaIgEvtgPn"
      },
      "outputs": [],
      "source": [
        "model.save('ocr_model.h5')"
      ]
    },
    {
      "cell_type": "code",
      "execution_count": null,
      "metadata": {
        "id": "6j24K_fvtqti"
      },
      "outputs": [],
      "source": [
        "labelNames = \"0123456789ABCDEFGHIJKLMNOPQRSTUVWXYZabcdefghijklmnopqrstuvwxyz\"\n",
        "labelNames = [l for l in labelNames]\n",
        "print(\"[INFO] evaluating network \")\n",
        "predictions = model.predict(testX, batch_size=BS)\n",
        "print(classification_report(testY.argmax(axis=1),\n",
        "  predictions.argmax(axis=1), target_names=labelNames,zero_division=0))"
      ]
    },
    {
      "cell_type": "code",
      "execution_count": null,
      "metadata": {
        "id": "VhCUwipQt8__"
      },
      "outputs": [],
      "source": [
        "EPOCHS=50"
      ]
    },
    {
      "cell_type": "code",
      "execution_count": null,
      "metadata": {
        "id": "7hyk5YzguACk"
      },
      "outputs": [],
      "source": [
        "H = model.fit(\n",
        "\taug.flow(trainX, trainY, batch_size=BS),\n",
        "\tvalidation_data=(testX, testY),\n",
        "\tsteps_per_epoch=len(trainX) // BS,\n",
        "\tepochs=EPOCHS,\n",
        "\tclass_weight=classWeight,\n",
        "\tverbose=1,\n",
        "  callbacks=[cp_callback])"
      ]
    },
    {
      "cell_type": "code",
      "execution_count": null,
      "metadata": {
        "id": "_KdQdOlPuLsL"
      },
      "outputs": [],
      "source": [
        "labelNames = \"0123456789ABCDEFGHIJKLMNOPQRSTUVWXYZabcdefghijklmnopqrstuvwxyz\"\n",
        "labelNames = [l for l in labelNames]\n",
        "print(\"[INFO] evaluating network \")\n",
        "predictions = model.predict(testX, batch_size=BS)\n",
        "print(classification_report(testY.argmax(axis=1),\n",
        "  predictions.argmax(axis=1), target_names=labelNames,zero_division=0))"
      ]
    },
    {
      "cell_type": "code",
      "execution_count": null,
      "metadata": {
        "id": "AmcXK1r6u3oo"
      },
      "outputs": [],
      "source": [
        "model.save('ocr_prediction.h5')\n",
        "model.save_weights(\"weight\")"
      ]
    },
    {
      "cell_type": "code",
      "execution_count": null,
      "metadata": {
        "id": "A7JY710BuTBi"
      },
      "outputs": [],
      "source": [
        "# save the model to disk\n",
        "print(\"[INFO] serializing network...\")\n",
        "#model.save('first_model', save_format=\"h5\")\n",
        "# construct a plot that plots and saves the training history\n",
        "N = np.arange(0, EPOCHS)\n",
        "plt.style.use(\"ggplot\")\n",
        "plt.figure()\n",
        "plt.plot(N, H.history[\"loss\"], label=\"train_loss\")\n",
        "plt.plot(N, H.history[\"val_loss\"], label=\"val_loss\")\n",
        "plt.title(\"Training Loss and Accuracy\")\n",
        "plt.xlabel(\"Epoch #\")\n",
        "plt.ylabel(\"Loss/Accuracy\")\n",
        "plt.legend(loc=\"lower left\")\n",
        "plt.show()\n",
        "#plt.savefig('plot'"
      ]
    },
    {
      "cell_type": "code",
      "execution_count": null,
      "metadata": {
        "id": "WJ-LUeO_vGe2"
      },
      "outputs": [],
      "source": [
        "from tensorflow.keras.models import load_model\n",
        "from imutils.contours import sort_contours\n",
        "import numpy as np\n",
        "import argparse\n",
        "import imutils\n",
        "import cv2\n",
        "from google.colab.patches import cv2_imshow"
      ]
    },
    {
      "cell_type": "code",
      "execution_count": null,
      "metadata": {
        "id": "VNuZ2GpHvGmQ"
      },
      "outputs": [],
      "source": [
        "model = load_model('ocr_prediction.h5')"
      ]
    },
    {
      "cell_type": "code",
      "execution_count": null,
      "metadata": {
        "id": "ZzfjiUTLvGpU"
      },
      "outputs": [],
      "source": [
        "def predict_image(img):\n",
        "    image = cv2.imread(img)\n",
        "    gray = cv2.cvtColor(image, cv2.COLOR_BGR2GRAY)\n",
        "    blurred = cv2.GaussianBlur(gray, (5, 5), 0)\n",
        "    edged = cv2.Canny(blurred, 30, 150)\n",
        "    cnts = cv2.findContours(edged.copy(), cv2.RETR_EXTERNAL,\n",
        "      cv2.CHAIN_APPROX_SIMPLE)\n",
        "    cnts = imutils.grab_contours(cnts)\n",
        "    cnts = sort_contours(cnts, method=\"left-to-right\")[0]\n",
        "    chars = []\n",
        "    for c in cnts:\n",
        "    # compute the bounding box of the contour\n",
        "      (x, y, w, h) = cv2.boundingRect(c)\n",
        "      # filter out bounding boxes, ensuring they are neither too small\n",
        "      # nor too large\n",
        "      if (w >= 5 and w <= 150) and (h >= 15 and h <= 120):\n",
        "        # extract the character and threshold it to make the character\n",
        "        # appear as *white* (foreground) on a *black* background, then\n",
        "        # grab the width and height of the thresholded image\n",
        "        roi = gray[y:y + h, x:x + w]\n",
        "        thresh = cv2.threshold(roi, 0, 255,\n",
        "          cv2.THRESH_BINARY_INV | cv2.THRESH_OTSU)[1]\n",
        "        (tH, tW) = thresh.shape\n",
        "        # if the width is greater than the height, resize along the\n",
        "        # width dimension\n",
        "        if tW > tH:\n",
        "          thresh = imutils.resize(thresh, width=32)\n",
        "        else:\n",
        "          thresh = imutils.resize(thresh, height=32)\n",
        "        (tH, tW) = thresh.shape\n",
        "        dX = int(max(0, 32 - tW) / 2.0)\n",
        "        dY = int(max(0, 32 - tH) / 2.0)\n",
        "        # pad the image and force 32x32 dimensions\n",
        "        padded = cv2.copyMakeBorder(thresh, top=dY, bottom=dY,\n",
        "          left=dX, right=dX, borderType=cv2.BORDER_CONSTANT,\n",
        "          value=(0, 0, 0))\n",
        "        padded = cv2.resize(padded, (32, 32))\n",
        "        padded = padded.astype(\"float32\")\n",
        "        padded = np.expand_dims(padded, axis=-1)\n",
        "        chars.append((padded, (x, y, w, h)))\n",
        "        cv2_imshow(padded)\n",
        "\n",
        "    boxes = [b[1] for b in chars]\n",
        "    #cv2_imshow(chars)\n",
        "    chars = np.array([c[0] for c in chars], dtype=\"float32\")\n",
        "    # OCR the characters using our handwriting recognition model\n",
        "    preds = model.predict(chars)\n",
        "    # define the list of label names\n",
        "    labelNames = \"0123456789\"\n",
        "    labelNames += \"ABCDEFGHIJKLMNOPQRSTUVWXYZ\"\n",
        "    labelNames = [l for l in labelNames]\n",
        "    output=\"\"\n",
        "    for (pred, (x, y, w, h)) in zip(preds, boxes):\n",
        "      i = np.argmax(pred)\n",
        "      prob = pred[i]\n",
        "      label = labelNames[i]\n",
        "      output+=label\n",
        "  \n",
        "    return output"
      ]
    },
    {
      "cell_type": "code",
      "execution_count": null,
      "metadata": {
        "id": "ADTrIi6avGr3"
      },
      "outputs": [],
      "source": [
        "predict_image('keras.png')"
      ]
    },
    {
      "cell_type": "code",
      "execution_count": null,
      "metadata": {
        "id": "IqezHFXjwn3X"
      },
      "outputs": [],
      "source": []
    },
    {
      "cell_type": "code",
      "execution_count": null,
      "metadata": {
        "id": "u38BU051wn6f"
      },
      "outputs": [],
      "source": [
        "images = []\n",
        "# randomly select a few testing characters\n",
        "\n",
        "for i in np.random.choice(np.arange(0, len(testY)), size=(49,)):\n",
        "  probs = model.predict(testX[np.newaxis, i])\n",
        "  prediction = probs.argmax(axis=1)\n",
        "  label = labelNames[prediction[0]]\n",
        "  output+=label\n",
        "  image = (testX[i] * 255).astype(\"uint8\")\n",
        "  color = (0, 255, 0)\n",
        "  if prediction[0] != np.argmax(testY[i]):\n",
        "  color = (0, 0, 255)\n",
        "  image = cv2.merge([image] * 3)\n",
        "  image = cv2.resize(image, (96, 96), interpolation=cv2.INTER_LINEAR)\n",
        "  cv2.putText(image, label, (5, 20), cv2.FONT_HERSHEY_SIMPLEX, 0.75,\n",
        "  color, 2)\n",
        "  images.append(image)\n",
        "  \n",
        "montage = build_montages(images, (96, 96), (7, 7))[0]\n",
        "cv2_imshow(montage)\n",
        "cv2.waitKey(0)"
      ]
    }
  ],
  "metadata": {
    "accelerator": "GPU",
    "colab": {
      "collapsed_sections": [],
      "name": "ocr_recog.ipynb",
      "provenance": []
    },
    "interpreter": {
      "hash": "916dbcbb3f70747c44a77c7bcd40155683ae19c65e1c03b4aa3499c5328201f1"
    },
    "kernelspec": {
      "display_name": "Python 3.8.10 64-bit",
      "language": "python",
      "name": "python3"
    },
    "language_info": {
      "codemirror_mode": {
        "name": "ipython",
        "version": 3
      },
      "file_extension": ".py",
      "mimetype": "text/x-python",
      "name": "python",
      "nbconvert_exporter": "python",
      "pygments_lexer": "ipython3",
      "version": "3.8.10"
    }
  },
  "nbformat": 4,
  "nbformat_minor": 0
}
