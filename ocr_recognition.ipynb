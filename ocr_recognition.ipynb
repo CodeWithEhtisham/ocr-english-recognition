{
 "cells": [
  {
   "cell_type": "code",
   "execution_count": 1,
   "metadata": {
    "colab": {
     "base_uri": "https://localhost:8080/"
    },
    "id": "F7kk_ievCqsj",
    "outputId": "04146644-25e5-4fba-cebc-cc3530cd5e8a"
   },
   "outputs": [
    {
     "name": "stdout",
     "output_type": "stream",
     "text": [
      "Drive already mounted at /gdrive; to attempt to forcibly remount, call drive.mount(\"/gdrive\", force_remount=True).\n"
     ]
    }
   ],
   "source": [
    "from google.colab import drive\n",
    "drive.mount('/gdrive')"
   ]
  },
  {
   "cell_type": "code",
   "execution_count": 1,
   "metadata": {
    "id": "IpHvfrxmBubK"
   },
   "outputs": [
    {
     "name": "stderr",
     "output_type": "stream",
     "text": [
      "2022-06-03 23:55:48.627927: I tensorflow/stream_executor/platform/default/dso_loader.cc:49] Successfully opened dynamic library libcudart.so.11.0\n"
     ]
    }
   ],
   "source": [
    "from tensorflow.keras.preprocessing.image import ImageDataGenerator\n",
    "from tensorflow.keras.optimizers import SGD\n",
    "from sklearn.preprocessing import LabelBinarizer\n",
    "from sklearn.model_selection import train_test_split\n",
    "from sklearn.metrics import classification_report\n",
    "\n",
    "from imutils import build_montages\n",
    "import matplotlib.pyplot as plt\n",
    "import numpy as np\n",
    "import argparse\n",
    "import cv2"
   ]
  },
  {
   "cell_type": "code",
   "execution_count": 2,
   "metadata": {
    "id": "Z-vseJO6CF6L"
   },
   "outputs": [],
   "source": [
    "EPOCHS = 50\n",
    "INIT_LR = 1e-1\n",
    "BS = 256"
   ]
  },
  {
   "cell_type": "code",
   "execution_count": 3,
   "metadata": {
    "id": "UK9Is_-GCIZo"
   },
   "outputs": [],
   "source": [
    "from tensorflow.keras.datasets import mnist\n",
    "\n",
    "def load_mnist_dataset():\n",
    "    ((trainData, trainLabels), (testData, testLabels)) = mnist.load_data()\n",
    "    data = np.vstack([trainData, testData])\n",
    "    labels = np.hstack([trainLabels, testLabels])\n",
    "    # return a 2-tuple of the MNIST data and labels\n",
    "    return (data, labels)"
   ]
  },
  {
   "cell_type": "code",
   "execution_count": 4,
   "metadata": {
    "id": "XWE8vZ3gCLar"
   },
   "outputs": [],
   "source": [
    "import numpy as np\n",
    "\n",
    "def load_az_dataset(datasetPath):\n",
    "    data = []\n",
    "    labels = []\n",
    "    for row in open(datasetPath):\n",
    "        row = row.split(\",\")\n",
    "        label = int(row[0])\n",
    "        image = np.array([int(x) for x in row[1:]], dtype=\"uint8\")\n",
    "        image = image.reshape((28, 28))\n",
    "        data.append(image)\n",
    "        labels.append(label)\n",
    "    data = np.array(data, dtype='float32')\n",
    "    labels = np.array(labels, dtype=\"int\")\n",
    "    return (data, labels)"
   ]
  },
  {
   "cell_type": "code",
   "execution_count": 5,
   "metadata": {
    "id": "5o9ul59lChd7"
   },
   "outputs": [],
   "source": [
    "(digitsData, digitsLabels) = load_mnist_dataset()\n",
    "\n",
    "(azData, azLabels) = load_az_dataset('A_Z Handwritten Data.csv')"
   ]
  },
  {
   "cell_type": "code",
   "execution_count": 6,
   "metadata": {
    "colab": {
     "base_uri": "https://localhost:8080/"
    },
    "id": "-NoRNkWqGx4I",
    "outputId": "c61dd729-bfa5-494a-a500-54b93f3589be"
   },
   "outputs": [
    {
     "data": {
      "text/plain": [
       "(28, 28)"
      ]
     },
     "execution_count": 6,
     "metadata": {},
     "output_type": "execute_result"
    }
   ],
   "source": [
    "digitsData[0].shape"
   ]
  },
  {
   "cell_type": "code",
   "execution_count": 7,
   "metadata": {
    "id": "fI0XBZqfG2XJ"
   },
   "outputs": [],
   "source": [
    "# the MNIST dataset occupies the labels 0-9, so let's add 10 to every\n",
    "# A-Z label to ensure the A-Z characters are not incorrectly labeled\n",
    "# as digits\n",
    "azLabels += 10\n",
    "# stack the A-Z data and labels with the MNIST digits data and labels\n",
    "data = np.vstack([azData, digitsData])\n",
    "labels = np.hstack([azLabels, digitsLabels])\n",
    "# each image in the A-Z and MNIST digts datasets are 28x28 pixels;\n",
    "# however, the architecture we're using is designed for 32x32 images,\n",
    "# so we need to resize them to 32x32\n",
    "data = [cv2.resize(image, (32, 32)) for image in data]\n",
    "data = np.array(data, dtype=\"float32\")\n",
    "# add a channel dimension to every image in the dataset and scale the\n",
    "# pixel intensities of the images from [0, 255] down to [0, 1]\n",
    "data = np.expand_dims(data, axis=-1)\n",
    "data /= 255.0"
   ]
  },
  {
   "cell_type": "code",
   "execution_count": 8,
   "metadata": {
    "id": "I3ybTbYKG6jw"
   },
   "outputs": [],
   "source": [
    "# convert the labels from integers to vectors\n",
    "le = LabelBinarizer()\n",
    "labels = le.fit_transform(labels)\n",
    "counts = labels.sum(axis=0)\n",
    "# account for skew in the labeled data\n",
    "classTotals = labels.sum(axis=0)\n",
    "classWeight = {}\n",
    "# loop over all classes and calculate the class weight\n",
    "for i in range(0, len(classTotals)):\n",
    "    classWeight[i] = classTotals.max() / classTotals[i]\n",
    "# partition the data into training and testing splits using 80% of\n",
    "# the data for training and the remaining 20% for testing\n",
    "(trainX, testX, trainY, testY) = train_test_split(data,\n",
    "    labels, test_size=0.20, stratify=labels, random_state=42)"
   ]
  },
  {
   "cell_type": "code",
   "execution_count": 9,
   "metadata": {
    "id": "NtQ2WRAdG8_i"
   },
   "outputs": [],
   "source": [
    "# Data Augmentation\n",
    "# construct the image generator for data augmentation\n",
    "aug = ImageDataGenerator(\n",
    "    rotation_range=10,\n",
    "    zoom_range=0.05,\n",
    "    width_shift_range=0.1,\n",
    "    height_shift_range=0.1,\n",
    "    shear_range=0.15,\n",
    "    horizontal_flip=False,\n",
    "    fill_mode=\"nearest\")"
   ]
  },
  {
   "cell_type": "code",
   "execution_count": 10,
   "metadata": {
    "id": "f9RhGah6G_2h"
   },
   "outputs": [],
   "source": [
    "from tensorflow.keras.layers import BatchNormalization\n",
    "from tensorflow.keras.layers import Conv2D\n",
    "from tensorflow.keras.layers import AveragePooling2D\n",
    "from tensorflow.keras.layers import MaxPooling2D\n",
    "from tensorflow.keras.layers import ZeroPadding2D\n",
    "from tensorflow.keras.layers import Activation\n",
    "from tensorflow.keras.layers import Dense\n",
    "from tensorflow.keras.layers import Flatten\n",
    "from tensorflow.keras.layers import Input\n",
    "from tensorflow.keras.models import Model\n",
    "from tensorflow.keras.layers import add\n",
    "from tensorflow.keras.regularizers import l2\n",
    "from tensorflow.keras import backend as K\n"
   ]
  },
  {
   "cell_type": "code",
   "execution_count": 11,
   "metadata": {
    "id": "FnZn_xHwHBd5"
   },
   "outputs": [],
   "source": [
    "class ResNet:\n",
    "    @staticmethod\n",
    "    def residual_module(data, K, stride, chanDim, red=False,\n",
    "        reg=0.0001, bnEps=2e-5, bnMom=0.9):\n",
    "        # the shortcut branch of the ResNet module should be\n",
    "        # initialize as the input (identity) data\n",
    "        shortcut = data\n",
    "\n",
    "        # the first block of the ResNet module are the 1x1 CONVs\n",
    "        bn1 = BatchNormalization(axis=chanDim, epsilon=bnEps,\n",
    "        momentum=bnMom)(data)\n",
    "        act1 = Activation(\"relu\")(bn1)\n",
    "        conv1 = Conv2D(int(K * 0.25), (1, 1), use_bias=False,\n",
    "        kernel_regularizer=l2(reg))(act1)\n",
    "\n",
    "        # the second block of the ResNet module are the 3x3 CONVs\n",
    "        bn2 = BatchNormalization(axis=chanDim, epsilon=bnEps,\n",
    "            momentum=bnMom)(conv1)\n",
    "        act2 = Activation(\"relu\")(bn2)\n",
    "        conv2 = Conv2D(int(K * 0.25), (3, 3), strides=stride,\n",
    "            padding=\"same\", use_bias=False,\n",
    "            kernel_regularizer=l2(reg))(act2)\n",
    "\n",
    "        # the third block of the ResNet module is another set of 1x1\n",
    "        # CONVs\n",
    "        bn3 = BatchNormalization(axis=chanDim, epsilon=bnEps,\n",
    "            momentum=bnMom)(conv2)\n",
    "        act3 = Activation(\"relu\")(bn3)\n",
    "        conv3 = Conv2D(K, (1, 1), use_bias=False,\n",
    "            kernel_regularizer=l2(reg))(act3)\n",
    "\n",
    "        # if we are to reduce the spatial size, apply a CONV layer to\n",
    "        # the shortcut\n",
    "        if red:\n",
    "            shortcut = Conv2D(K, (1, 1), strides=stride,\n",
    "                use_bias=False, kernel_regularizer=l2(reg))(act1)\n",
    "        # add together the shortcut and the final CONV\n",
    "        x = add([conv3, shortcut])\n",
    "\n",
    "        # return the addition as the output of the ResNet module\n",
    "        return x\n",
    "    \n",
    "    @staticmethod\n",
    "    def build(width, height, depth, classes, stages, filters,\n",
    "        reg=0.0001, bnEps=2e-5, bnMom=0.9, dataset=\"cifar\"):\n",
    "        # initialize the input shape to be \"channels last\" and the\n",
    "        # channels dimension itself\n",
    "        inputShape = (height, width, depth)\n",
    "        chanDim = -1\n",
    "\n",
    "        # if we are using \"channels first\", update the input shape\n",
    "        # and channels dimension\n",
    "        if K.image_data_format() == \"channels_first\":\n",
    "            inputShape = (depth, height, width)\n",
    "            chanDim = 1\n",
    "\n",
    "        # set the input and apply BN\n",
    "        inputs = Input(shape=inputShape)\n",
    "        x = BatchNormalization(axis=chanDim, epsilon=bnEps,\n",
    "            momentum=bnMom)(inputs)\n",
    "\n",
    "        # check if we are utilizing the CIFAR dataset\n",
    "        if dataset == \"cifar\":\n",
    "            # apply a single CONV layer\n",
    "            x = Conv2D(filters[0], (3, 3), use_bias=False,\n",
    "            padding=\"same\", kernel_regularizer=l2(reg))(x)\n",
    "\n",
    "        # check to see if we are using the Tiny ImageNet dataset\n",
    "        elif dataset == \"tiny_imagenet\":\n",
    "            # apply CONV => BN => ACT => POOL to reduce spatial size\n",
    "            x = Conv2D(filters[0], (5, 5), use_bias=False,\n",
    "                padding=\"same\", kernel_regularizer=l2(reg))(x)\n",
    "            x = BatchNormalization(axis=chanDim, epsilon=bnEps,\n",
    "            momentum=bnMom)(x)\n",
    "            x = Activation(\"relu\")(x)\n",
    "            x = ZeroPadding2D((1, 1))(x)\n",
    "            x = MaxPooling2D((3, 3), strides=(2, 2))(x)\n",
    "        \n",
    "        # loop over the number of stages\n",
    "        for i in range(0, len(stages)):\n",
    "            # initialize the stride, then apply a residual module\n",
    "            # used to reduce the spatial size of the input volume\n",
    "            stride = (1, 1) if i == 0 else (2, 2)\n",
    "            x = ResNet.residual_module(x, filters[i + 1], stride,\n",
    "                chanDim, red=True, bnEps=bnEps, bnMom=bnMom)\n",
    "\n",
    "            # loop over the number of layers in the stage\n",
    "            for j in range(0, stages[i] - 1):\n",
    "                # apply a ResNet module\n",
    "                x = ResNet.residual_module(x, filters[i + 1],\n",
    "                    (1, 1), chanDim, bnEps=bnEps, bnMom=bnMom)\n",
    "            \n",
    "            # apply BN => ACT => POOL\n",
    "        x = BatchNormalization(axis=chanDim, epsilon=bnEps,\n",
    "            momentum=bnMom)(x)\n",
    "        x = Activation(\"relu\")(x)\n",
    "        x = AveragePooling2D((8, 8))(x)\n",
    "\n",
    "        # softmax classifier\n",
    "        x = Flatten()(x)\n",
    "        x = Dense(classes, kernel_regularizer=l2(reg))(x)\n",
    "        x = Activation(\"softmax\")(x)\n",
    "\n",
    "        # create the model\n",
    "        model = Model(inputs, x, name=\"resnet\")\n",
    "\n",
    "        # return the constructed network architecture\n",
    "        return model"
   ]
  },
  {
   "cell_type": "code",
   "execution_count": 12,
   "metadata": {
    "id": "XlE799QJHDQ7"
   },
   "outputs": [
    {
     "name": "stdout",
     "output_type": "stream",
     "text": [
      "[INFO] compiling model...\n"
     ]
    },
    {
     "name": "stderr",
     "output_type": "stream",
     "text": [
      "2022-06-03 23:57:21.659987: I tensorflow/compiler/jit/xla_cpu_device.cc:41] Not creating XLA devices, tf_xla_enable_xla_devices not set\n",
      "2022-06-03 23:57:21.664987: I tensorflow/stream_executor/platform/default/dso_loader.cc:49] Successfully opened dynamic library libcuda.so.1\n",
      "2022-06-03 23:57:21.723585: I tensorflow/stream_executor/cuda/cuda_gpu_executor.cc:941] successful NUMA node read from SysFS had negative value (-1), but there must be at least one NUMA node, so returning NUMA node zero\n",
      "2022-06-03 23:57:21.724129: I tensorflow/core/common_runtime/gpu/gpu_device.cc:1720] Found device 0 with properties: \n",
      "pciBusID: 0000:01:00.0 name: NVIDIA GeForce GTX 980 Ti computeCapability: 5.2\n",
      "coreClock: 1.2405GHz coreCount: 22 deviceMemorySize: 5.94GiB deviceMemoryBandwidth: 313.37GiB/s\n",
      "2022-06-03 23:57:21.724147: I tensorflow/stream_executor/platform/default/dso_loader.cc:49] Successfully opened dynamic library libcudart.so.11.0\n",
      "2022-06-03 23:57:21.735420: I tensorflow/stream_executor/platform/default/dso_loader.cc:49] Successfully opened dynamic library libcublas.so.11\n",
      "2022-06-03 23:57:21.735491: I tensorflow/stream_executor/platform/default/dso_loader.cc:49] Successfully opened dynamic library libcublasLt.so.11\n",
      "2022-06-03 23:57:21.739831: I tensorflow/stream_executor/platform/default/dso_loader.cc:49] Successfully opened dynamic library libcufft.so.10\n",
      "2022-06-03 23:57:21.742315: I tensorflow/stream_executor/platform/default/dso_loader.cc:49] Successfully opened dynamic library libcurand.so.10\n",
      "2022-06-03 23:57:21.751705: I tensorflow/stream_executor/platform/default/dso_loader.cc:49] Successfully opened dynamic library libcusolver.so.10\n",
      "2022-06-03 23:57:21.754767: I tensorflow/stream_executor/platform/default/dso_loader.cc:49] Successfully opened dynamic library libcusparse.so.11\n",
      "2022-06-03 23:57:21.755319: I tensorflow/stream_executor/platform/default/dso_loader.cc:49] Successfully opened dynamic library libcudnn.so.8\n",
      "2022-06-03 23:57:21.755420: I tensorflow/stream_executor/cuda/cuda_gpu_executor.cc:941] successful NUMA node read from SysFS had negative value (-1), but there must be at least one NUMA node, so returning NUMA node zero\n",
      "2022-06-03 23:57:21.755856: I tensorflow/stream_executor/cuda/cuda_gpu_executor.cc:941] successful NUMA node read from SysFS had negative value (-1), but there must be at least one NUMA node, so returning NUMA node zero\n",
      "2022-06-03 23:57:21.756545: I tensorflow/core/common_runtime/gpu/gpu_device.cc:1862] Adding visible gpu devices: 0\n",
      "2022-06-03 23:57:21.757142: I tensorflow/compiler/jit/xla_gpu_device.cc:99] Not creating XLA devices, tf_xla_enable_xla_devices not set\n",
      "2022-06-03 23:57:21.757221: I tensorflow/stream_executor/cuda/cuda_gpu_executor.cc:941] successful NUMA node read from SysFS had negative value (-1), but there must be at least one NUMA node, so returning NUMA node zero\n",
      "2022-06-03 23:57:21.757592: I tensorflow/core/common_runtime/gpu/gpu_device.cc:1720] Found device 0 with properties: \n",
      "pciBusID: 0000:01:00.0 name: NVIDIA GeForce GTX 980 Ti computeCapability: 5.2\n",
      "coreClock: 1.2405GHz coreCount: 22 deviceMemorySize: 5.94GiB deviceMemoryBandwidth: 313.37GiB/s\n",
      "2022-06-03 23:57:21.757609: I tensorflow/stream_executor/platform/default/dso_loader.cc:49] Successfully opened dynamic library libcudart.so.11.0\n",
      "2022-06-03 23:57:21.757637: I tensorflow/stream_executor/platform/default/dso_loader.cc:49] Successfully opened dynamic library libcublas.so.11\n",
      "2022-06-03 23:57:21.757651: I tensorflow/stream_executor/platform/default/dso_loader.cc:49] Successfully opened dynamic library libcublasLt.so.11\n",
      "2022-06-03 23:57:21.757665: I tensorflow/stream_executor/platform/default/dso_loader.cc:49] Successfully opened dynamic library libcufft.so.10\n",
      "2022-06-03 23:57:21.757679: I tensorflow/stream_executor/platform/default/dso_loader.cc:49] Successfully opened dynamic library libcurand.so.10\n",
      "2022-06-03 23:57:21.757692: I tensorflow/stream_executor/platform/default/dso_loader.cc:49] Successfully opened dynamic library libcusolver.so.10\n",
      "2022-06-03 23:57:21.757705: I tensorflow/stream_executor/platform/default/dso_loader.cc:49] Successfully opened dynamic library libcusparse.so.11\n",
      "2022-06-03 23:57:21.757719: I tensorflow/stream_executor/platform/default/dso_loader.cc:49] Successfully opened dynamic library libcudnn.so.8\n",
      "2022-06-03 23:57:21.757764: I tensorflow/stream_executor/cuda/cuda_gpu_executor.cc:941] successful NUMA node read from SysFS had negative value (-1), but there must be at least one NUMA node, so returning NUMA node zero\n",
      "2022-06-03 23:57:21.758152: I tensorflow/stream_executor/cuda/cuda_gpu_executor.cc:941] successful NUMA node read from SysFS had negative value (-1), but there must be at least one NUMA node, so returning NUMA node zero\n",
      "2022-06-03 23:57:21.758503: I tensorflow/core/common_runtime/gpu/gpu_device.cc:1862] Adding visible gpu devices: 0\n",
      "2022-06-03 23:57:21.758855: I tensorflow/stream_executor/platform/default/dso_loader.cc:49] Successfully opened dynamic library libcudart.so.11.0\n",
      "2022-06-03 23:57:22.339306: I tensorflow/core/common_runtime/gpu/gpu_device.cc:1261] Device interconnect StreamExecutor with strength 1 edge matrix:\n",
      "2022-06-03 23:57:22.339332: I tensorflow/core/common_runtime/gpu/gpu_device.cc:1267]      0 \n",
      "2022-06-03 23:57:22.339337: I tensorflow/core/common_runtime/gpu/gpu_device.cc:1280] 0:   N \n",
      "2022-06-03 23:57:22.340169: I tensorflow/stream_executor/cuda/cuda_gpu_executor.cc:941] successful NUMA node read from SysFS had negative value (-1), but there must be at least one NUMA node, so returning NUMA node zero\n",
      "2022-06-03 23:57:22.340457: I tensorflow/stream_executor/cuda/cuda_gpu_executor.cc:941] successful NUMA node read from SysFS had negative value (-1), but there must be at least one NUMA node, so returning NUMA node zero\n",
      "2022-06-03 23:57:22.340691: I tensorflow/stream_executor/cuda/cuda_gpu_executor.cc:941] successful NUMA node read from SysFS had negative value (-1), but there must be at least one NUMA node, so returning NUMA node zero\n",
      "2022-06-03 23:57:22.340899: I tensorflow/core/common_runtime/gpu/gpu_device.cc:1406] Created TensorFlow device (/job:localhost/replica:0/task:0/device:GPU:0 with 5374 MB memory) -> physical GPU (device: 0, name: NVIDIA GeForce GTX 980 Ti, pci bus id: 0000:01:00.0, compute capability: 5.2)\n"
     ]
    }
   ],
   "source": [
    "print(\"[INFO] compiling model...\")\n",
    "opt = SGD(learning_rate=INIT_LR, decay=INIT_LR / EPOCHS)\n",
    "model = ResNet.build(32, 32, 1, len(le.classes_), (3, 3, 3),\n",
    "    (32, 32, 128, 256), reg=0.0005)\n",
    "model.compile(loss=\"categorical_crossentropy\", optimizer=opt,\n",
    "    metrics=[\"accuracy\"])"
   ]
  },
  {
   "cell_type": "code",
   "execution_count": 13,
   "metadata": {
    "id": "5jYKWQe8HWIR"
   },
   "outputs": [
    {
     "name": "stdout",
     "output_type": "stream",
     "text": [
      "[INFO] training network...\n",
      "Epoch 1/50\n"
     ]
    },
    {
     "name": "stderr",
     "output_type": "stream",
     "text": [
      "2022-06-03 23:57:31.199650: I tensorflow/compiler/mlir/mlir_graph_optimization_pass.cc:116] None of the MLIR optimization passes are enabled (registered 2)\n",
      "2022-06-03 23:57:31.218467: I tensorflow/core/platform/profile_utils/cpu_utils.cc:112] CPU Frequency: 3600000000 Hz\n",
      "2022-06-03 23:57:32.778215: I tensorflow/stream_executor/platform/default/dso_loader.cc:49] Successfully opened dynamic library libcublas.so.11\n",
      "2022-06-03 23:57:33.213173: I tensorflow/stream_executor/platform/default/dso_loader.cc:49] Successfully opened dynamic library libcublasLt.so.11\n",
      "2022-06-03 23:57:33.219161: I tensorflow/stream_executor/platform/default/dso_loader.cc:49] Successfully opened dynamic library libcudnn.so.8\n"
     ]
    },
    {
     "name": "stdout",
     "output_type": "stream",
     "text": [
      "1382/1382 [==============================] - 140s 98ms/step - loss: 4.9214 - accuracy: 0.7082 - val_loss: 0.4892 - val_accuracy: 0.9050\n",
      "Epoch 2/50\n",
      "1382/1382 [==============================] - 136s 98ms/step - loss: 0.9764 - accuracy: 0.9233 - val_loss: 0.6241 - val_accuracy: 0.8509\n",
      "Epoch 3/50\n",
      "1382/1382 [==============================] - 137s 99ms/step - loss: 0.8570 - accuracy: 0.9344 - val_loss: 0.5427 - val_accuracy: 0.8786\n",
      "Epoch 4/50\n",
      "1382/1382 [==============================] - 136s 99ms/step - loss: 0.8093 - accuracy: 0.9374 - val_loss: 0.5921 - val_accuracy: 0.8540\n",
      "Epoch 5/50\n",
      "1382/1382 [==============================] - 136s 98ms/step - loss: 0.7814 - accuracy: 0.9387 - val_loss: 0.5173 - val_accuracy: 0.8892\n",
      "Epoch 6/50\n",
      "1382/1382 [==============================] - 136s 98ms/step - loss: 0.7515 - accuracy: 0.9425 - val_loss: 0.5146 - val_accuracy: 0.8875\n",
      "Epoch 7/50\n",
      "1382/1382 [==============================] - 136s 98ms/step - loss: 0.7260 - accuracy: 0.9439 - val_loss: 0.5619 - val_accuracy: 0.8667\n",
      "Epoch 8/50\n",
      "1382/1382 [==============================] - 136s 98ms/step - loss: 0.7107 - accuracy: 0.9454 - val_loss: 0.4869 - val_accuracy: 0.8960\n",
      "Epoch 9/50\n",
      "1382/1382 [==============================] - 136s 98ms/step - loss: 0.6975 - accuracy: 0.9469 - val_loss: 0.4487 - val_accuracy: 0.9160\n",
      "Epoch 10/50\n",
      "1382/1382 [==============================] - 136s 98ms/step - loss: 0.6902 - accuracy: 0.9490 - val_loss: 0.4237 - val_accuracy: 0.9297\n",
      "Epoch 11/50\n",
      "1382/1382 [==============================] - 136s 98ms/step - loss: 0.6808 - accuracy: 0.9485 - val_loss: 0.4291 - val_accuracy: 0.9272\n",
      "Epoch 12/50\n",
      "1382/1382 [==============================] - 136s 98ms/step - loss: 0.6788 - accuracy: 0.9501 - val_loss: 0.4330 - val_accuracy: 0.9228\n",
      "Epoch 13/50\n",
      "1382/1382 [==============================] - 136s 98ms/step - loss: 0.6633 - accuracy: 0.9517 - val_loss: 0.4125 - val_accuracy: 0.9356\n",
      "Epoch 14/50\n",
      "1382/1382 [==============================] - 135s 98ms/step - loss: 0.6588 - accuracy: 0.9523 - val_loss: 0.4293 - val_accuracy: 0.9246\n",
      "Epoch 15/50\n",
      "1382/1382 [==============================] - 135s 98ms/step - loss: 0.6502 - accuracy: 0.9525 - val_loss: 0.3981 - val_accuracy: 0.9444\n",
      "Epoch 16/50\n",
      "1382/1382 [==============================] - 135s 98ms/step - loss: 0.6487 - accuracy: 0.9527 - val_loss: 0.4355 - val_accuracy: 0.9213\n",
      "Epoch 17/50\n",
      "1382/1382 [==============================] - 135s 98ms/step - loss: 0.6328 - accuracy: 0.9550 - val_loss: 0.4336 - val_accuracy: 0.9231\n",
      "Epoch 18/50\n",
      "1382/1382 [==============================] - 135s 98ms/step - loss: 0.6394 - accuracy: 0.9549 - val_loss: 0.4137 - val_accuracy: 0.9353\n",
      "Epoch 19/50\n",
      "1382/1382 [==============================] - 141s 102ms/step - loss: 0.6360 - accuracy: 0.9549 - val_loss: 0.3862 - val_accuracy: 0.9502\n",
      "Epoch 20/50\n",
      "1382/1382 [==============================] - 142s 103ms/step - loss: 0.6264 - accuracy: 0.9563 - val_loss: 0.3872 - val_accuracy: 0.9499\n",
      "Epoch 21/50\n",
      "1382/1382 [==============================] - 146s 106ms/step - loss: 0.6126 - accuracy: 0.9572 - val_loss: 0.3887 - val_accuracy: 0.9496\n",
      "Epoch 22/50\n",
      "1382/1382 [==============================] - 143s 103ms/step - loss: 0.6155 - accuracy: 0.9559 - val_loss: 0.3782 - val_accuracy: 0.9553\n",
      "Epoch 23/50\n",
      "1382/1382 [==============================] - 144s 104ms/step - loss: 0.6116 - accuracy: 0.9575 - val_loss: 0.4253 - val_accuracy: 0.9284\n",
      "Epoch 24/50\n",
      "1382/1382 [==============================] - 141s 102ms/step - loss: 0.6170 - accuracy: 0.9568 - val_loss: 0.4010 - val_accuracy: 0.9410\n",
      "Epoch 25/50\n",
      "1382/1382 [==============================] - 135s 98ms/step - loss: 0.6101 - accuracy: 0.9589 - val_loss: 0.3554 - val_accuracy: 0.9651\n",
      "Epoch 26/50\n",
      "1382/1382 [==============================] - 135s 98ms/step - loss: 0.6028 - accuracy: 0.9593 - val_loss: 0.4112 - val_accuracy: 0.9354\n",
      "Epoch 27/50\n",
      "1382/1382 [==============================] - 135s 98ms/step - loss: 0.6019 - accuracy: 0.9601 - val_loss: 0.3504 - val_accuracy: 0.9677\n",
      "Epoch 28/50\n",
      "1382/1382 [==============================] - 135s 98ms/step - loss: 0.5914 - accuracy: 0.9594 - val_loss: 0.3714 - val_accuracy: 0.9573\n",
      "Epoch 29/50\n",
      "1382/1382 [==============================] - 144s 104ms/step - loss: 0.5926 - accuracy: 0.9593 - val_loss: 0.3840 - val_accuracy: 0.9512\n",
      "Epoch 30/50\n",
      "1382/1382 [==============================] - 143s 103ms/step - loss: 0.5924 - accuracy: 0.9604 - val_loss: 0.3802 - val_accuracy: 0.9535\n",
      "Epoch 31/50\n",
      "1382/1382 [==============================] - 152s 110ms/step - loss: 0.5887 - accuracy: 0.9612 - val_loss: 0.3656 - val_accuracy: 0.9601\n",
      "Epoch 32/50\n",
      "1382/1382 [==============================] - 143s 103ms/step - loss: 0.5841 - accuracy: 0.9610 - val_loss: 0.3695 - val_accuracy: 0.9582\n",
      "Epoch 33/50\n",
      "1382/1382 [==============================] - 141s 102ms/step - loss: 0.5854 - accuracy: 0.9611 - val_loss: 0.3494 - val_accuracy: 0.9672\n",
      "Epoch 34/50\n",
      "1382/1382 [==============================] - 137s 99ms/step - loss: 0.5829 - accuracy: 0.9618 - val_loss: 0.3577 - val_accuracy: 0.9640\n",
      "Epoch 35/50\n",
      "1382/1382 [==============================] - 137s 99ms/step - loss: 0.5772 - accuracy: 0.9623 - val_loss: 0.3616 - val_accuracy: 0.9621\n",
      "Epoch 36/50\n",
      "1382/1382 [==============================] - 138s 100ms/step - loss: 0.5758 - accuracy: 0.9622 - val_loss: 0.3566 - val_accuracy: 0.9644\n",
      "Epoch 37/50\n",
      "1382/1382 [==============================] - 139s 100ms/step - loss: 0.5792 - accuracy: 0.9624 - val_loss: 0.3434 - val_accuracy: 0.9694\n",
      "Epoch 38/50\n",
      "1382/1382 [==============================] - 139s 101ms/step - loss: 0.5698 - accuracy: 0.9640 - val_loss: 0.3577 - val_accuracy: 0.9632\n",
      "Epoch 39/50\n",
      "1382/1382 [==============================] - 142s 103ms/step - loss: 0.5678 - accuracy: 0.9635 - val_loss: 0.3386 - val_accuracy: 0.9709\n",
      "Epoch 40/50\n",
      "1382/1382 [==============================] - 143s 103ms/step - loss: 0.5657 - accuracy: 0.9638 - val_loss: 0.3389 - val_accuracy: 0.9701\n",
      "Epoch 41/50\n",
      "1382/1382 [==============================] - 142s 103ms/step - loss: 0.5588 - accuracy: 0.9634 - val_loss: 0.3526 - val_accuracy: 0.9659\n",
      "Epoch 42/50\n",
      "1382/1382 [==============================] - 140s 101ms/step - loss: 0.5642 - accuracy: 0.9642 - val_loss: 0.3379 - val_accuracy: 0.9706\n",
      "Epoch 43/50\n",
      "1382/1382 [==============================] - 140s 101ms/step - loss: 0.5652 - accuracy: 0.9640 - val_loss: 0.3372 - val_accuracy: 0.9709\n",
      "Epoch 44/50\n",
      "1382/1382 [==============================] - 140s 102ms/step - loss: 0.5657 - accuracy: 0.9635 - val_loss: 0.3808 - val_accuracy: 0.9502\n",
      "Epoch 45/50\n",
      "1382/1382 [==============================] - 140s 101ms/step - loss: 0.5640 - accuracy: 0.9635 - val_loss: 0.3618 - val_accuracy: 0.9610\n",
      "Epoch 46/50\n",
      "1382/1382 [==============================] - 140s 102ms/step - loss: 0.5544 - accuracy: 0.9649 - val_loss: 0.3381 - val_accuracy: 0.9705\n",
      "Epoch 47/50\n",
      "1382/1382 [==============================] - 139s 101ms/step - loss: 0.5582 - accuracy: 0.9648 - val_loss: 0.3431 - val_accuracy: 0.9681\n",
      "Epoch 48/50\n",
      "1382/1382 [==============================] - 140s 101ms/step - loss: 0.5539 - accuracy: 0.9646 - val_loss: 0.3555 - val_accuracy: 0.9634\n",
      "Epoch 49/50\n",
      "1382/1382 [==============================] - 140s 101ms/step - loss: 0.5542 - accuracy: 0.9652 - val_loss: 0.3444 - val_accuracy: 0.9683\n",
      "Epoch 50/50\n",
      "1382/1382 [==============================] - 139s 101ms/step - loss: 0.5537 - accuracy: 0.9653 - val_loss: 0.3338 - val_accuracy: 0.9716\n"
     ]
    }
   ],
   "source": [
    "print(\"[INFO] training network...\")\n",
    "H = model.fit(\n",
    "\taug.flow(trainX, trainY, batch_size=BS),\n",
    "\tvalidation_data=(testX, testY),\n",
    "\tsteps_per_epoch=len(trainX) // BS,\n",
    "\tepochs=EPOCHS,\n",
    "\tclass_weight=classWeight,\n",
    "\tverbose=1)"
   ]
  },
  {
   "cell_type": "code",
   "execution_count": 14,
   "metadata": {
    "id": "EK4_lHD6Hvmj"
   },
   "outputs": [
    {
     "name": "stdout",
     "output_type": "stream",
     "text": [
      "[INFO] evaluating network...\n",
      "              precision    recall  f1-score   support\n",
      "\n",
      "           0       0.73      0.40      0.52      1381\n",
      "           1       0.98      0.99      0.99      1575\n",
      "           2       0.96      0.95      0.95      1398\n",
      "           3       0.99      0.99      0.99      1428\n",
      "           4       0.94      0.98      0.96      1365\n",
      "           5       0.84      0.92      0.88      1263\n",
      "           6       0.96      0.99      0.97      1375\n",
      "           7       0.98      0.99      0.99      1459\n",
      "           8       0.97      0.99      0.98      1365\n",
      "           9       1.00      0.98      0.99      1392\n",
      "           A       1.00      0.99      0.99      2774\n",
      "           B       0.98      0.99      0.99      1734\n",
      "           C       0.99      0.99      0.99      4682\n",
      "           D       0.89      0.99      0.94      2027\n",
      "           E       0.99      0.99      0.99      2288\n",
      "           F       0.96      0.99      0.97       232\n",
      "           G       0.98      0.96      0.97      1152\n",
      "           H       0.98      0.98      0.98      1444\n",
      "           I       0.99      0.99      0.99       224\n",
      "           J       0.98      0.97      0.98      1699\n",
      "           K       0.97      0.99      0.98      1121\n",
      "           L       0.98      0.99      0.98      2317\n",
      "           M       0.99      0.99      0.99      2467\n",
      "           N       0.99      0.99      0.99      3802\n",
      "           O       0.93      0.96      0.95     11565\n",
      "           P       1.00      0.99      0.99      3868\n",
      "           Q       0.97      0.98      0.98      1162\n",
      "           R       0.99      0.99      0.99      2313\n",
      "           S       0.99      0.97      0.98      9684\n",
      "           T       1.00      0.99      0.99      4499\n",
      "           U       0.99      0.99      0.99      5802\n",
      "           V       0.97      1.00      0.99       836\n",
      "           W       0.99      0.98      0.99      2157\n",
      "           X       0.98      0.99      0.99      1254\n",
      "           Y       0.99      0.96      0.97      2172\n",
      "           Z       0.94      0.97      0.95      1215\n",
      "\n",
      "    accuracy                           0.97     88491\n",
      "   macro avg       0.97      0.97      0.96     88491\n",
      "weighted avg       0.97      0.97      0.97     88491\n",
      "\n"
     ]
    }
   ],
   "source": [
    "# define the list of label names\n",
    "labelNames = \"0123456789\"\n",
    "labelNames += \"ABCDEFGHIJKLMNOPQRSTUVWXYZ\"\n",
    "labelNames = [l for l in labelNames]\n",
    "# evaluate the network\n",
    "print(\"[INFO] evaluating network...\")\n",
    "predictions = model.predict(testX, batch_size=BS)\n",
    "print(classification_report(testY.argmax(axis=1),\n",
    "\tpredictions.argmax(axis=1), target_names=labelNames))"
   ]
  },
  {
   "cell_type": "code",
   "execution_count": 15,
   "metadata": {
    "id": "IjbSJ5qKUGCB"
   },
   "outputs": [],
   "source": [
    "model.save(\"ocr_recognition.h5\")"
   ]
  },
  {
   "cell_type": "code",
   "execution_count": 16,
   "metadata": {
    "id": "UFZMNtQaUUsR"
   },
   "outputs": [],
   "source": [
    "model.save_weights(\"weight\")"
   ]
  },
  {
   "cell_type": "code",
   "execution_count": 17,
   "metadata": {},
   "outputs": [
    {
     "data": {
      "image/png": "[encoded data removed]",
      "text/plain": [
       "<Figure size 432x288 with 1 Axes>"
      ]
     },
     "metadata": {
      "needs_background": "light"
     },
     "output_type": "display_data"
    }
   ],
   "source": [
    "# summarize history for accuracy\n",
    "plt.plot(H.history['accuracy'])\n",
    "plt.plot(H.history['val_accuracy'])\n",
    "plt.title('model accuracy')\n",
    "plt.ylabel('accuracy')\n",
    "plt.xlabel('epoch')\n",
    "plt.legend(['train', 'test'], loc='upper left')\n",
    "plt.show()"
   ]
  },
  {
   "cell_type": "code",
   "execution_count": 18,
   "metadata": {},
   "outputs": [
    {
     "data": {
      "image/png": "[encoded data removed]",
      "text/plain": [
       "<Figure size 432x288 with 1 Axes>"
      ]
     },
     "metadata": {
      "needs_background": "light"
     },
     "output_type": "display_data"
    }
   ],
   "source": [
    "# summarize history for loss\n",
    "plt.plot(H.history['loss'])\n",
    "plt.plot(H.history['val_loss'])\n",
    "plt.title('model loss')\n",
    "plt.ylabel('loss')\n",
    "plt.xlabel('epoch')\n",
    "plt.legend(['train', 'test'], loc='upper left')\n",
    "plt.show()"
   ]
  },
  {
   "cell_type": "code",
   "execution_count": 21,
   "metadata": {
    "id": "QopGLv5KannA"
   },
   "outputs": [],
   "source": [
    "from tensorflow.keras.models import load_model\n",
    "from imutils.contours import sort_contours\n",
    "import numpy as np\n",
    "import argparse\n",
    "import imutils\n",
    "import cv2\n",
    "# from google.colab.patches import cv2_imshow"
   ]
  },
  {
   "cell_type": "code",
   "execution_count": 22,
   "metadata": {
    "id": "sbS_RO7vVDbU"
   },
   "outputs": [],
   "source": [
    "def predict_image(img):\n",
    "    image = cv2.imread(img)\n",
    "    gray = cv2.cvtColor(image, cv2.COLOR_BGR2GRAY)\n",
    "    blurred = cv2.GaussianBlur(gray, (5, 5), 0)\n",
    "    edged = cv2.Canny(blurred, 30, 150)\n",
    "    cnts = cv2.findContours(edged.copy(), cv2.RETR_EXTERNAL, cv2.CHAIN_APPROX_SIMPLE)\n",
    "    cnts = imutils.grab_contours(cnts)\n",
    "    cnts = sort_contours(cnts, method=\"left-to-right\")[0]\n",
    "    chars = []\n",
    "\n",
    "    for c in cnts:\n",
    "      # compute the bounding box of the contour\n",
    "      (x, y, w, h) = cv2.boundingRect(c)\n",
    "      # filter out bounding boxes, ensuring they are neither too small\n",
    "      # nor too large\n",
    "      if (w >= 5 and w <= 150) and (h >= 15 and h <= 120):\n",
    "      # extract the character and threshold it to make the character\n",
    "      # appear as *white* (foreground) on a *black* background, then\n",
    "      # grab the width and height of the thresholded image\n",
    "        roi = gray[y:y + h, x:x + w]\n",
    "        thresh = cv2.threshold(roi, 0, 255,\n",
    "          cv2.THRESH_BINARY_INV | cv2.THRESH_OTSU)[1]\n",
    "        (tH, tW) = thresh.shape\n",
    "        # if the width is greater than the height, resize along the\n",
    "        # width dimension\n",
    "      if tW > tH:\n",
    "        thresh = imutils.resize(thresh, width=32)\n",
    "      # otherwise, resize along the height\n",
    "      else:\n",
    "        thresh = imutils.resize(thresh, height=32)\n",
    "      \n",
    "      (tH, tW) = thresh.shape\n",
    "      dX = int(max(0, 32 - tW) / 2.0)\n",
    "      dY = int(max(0, 32 - tH) / 2.0)\n",
    "      # pad the image and force 32x32 dimensions\n",
    "      padded = cv2.copyMakeBorder(thresh, top=dY, bottom=dY, left=dX, right=dX, borderType=cv2.BORDER_CONSTANT,value=(0, 0, 0))\n",
    "      padded = cv2.resize(padded, (32, 32))\n",
    "      padded = padded.astype(\"float32\")\n",
    "      padded = np.expand_dims(padded, axis=-1)\n",
    "      chars.append((padded, (x, y, w, h)))\n",
    "      plt.imshow(padded)\n",
    "      boxes = [b[1] for b in chars]\n",
    "      #cv2_imshow(chars)\n",
    "      chars = np.array([c[0] for c in chars], dtype=\"float32\")\n",
    "      # OCR the characters using our handwriting recognition model\n",
    "      preds = model.predict(chars)\n",
    "      # define the list of label names\n",
    "      labelNames = \"0123456789\"\n",
    "      labelNames += \"ABCDEFGHIJKLMNOPQRSTUVWXYZ\"\n",
    "      labelNames = [l for l in labelNames]\n",
    "      output=\"\"\n",
    "      for (pred, (x, y, w, h)) in zip(preds, boxes):\n",
    "        i = np.argmax(pred)\n",
    "        prob = pred[i]\n",
    "        label = labelNames[i]\n",
    "        output+=label\n",
    "  \n",
    "      return output"
   ]
  },
  {
   "cell_type": "code",
   "execution_count": 42,
   "metadata": {
    "colab": {
     "base_uri": "https://localhost:8080/",
     "height": 68
    },
    "id": "BkiKXkMOWXo8",
    "outputId": "4b3a87a7-86a7-48b9-b856-c1c5142785f4"
   },
   "outputs": [
    {
     "name": "stdout",
     "output_type": "stream",
     "text": [
      "[[0. 0. 0. 0. 0. 0. 0. 0. 0. 0. 0. 0. 0. 0. 0. 1. 0. 0. 0. 0. 0. 0. 0. 0.\n",
      "  0. 0. 0. 0. 0. 0. 0. 0. 0. 0. 0. 0.]]\n"
     ]
    },
    {
     "data": {
      "text/plain": [
       "'F'"
      ]
     },
     "execution_count": 42,
     "metadata": {},
     "output_type": "execute_result"
    }
   ],
   "source": [
    "labelNames = \"0123456789\"\n",
    "labelNames += \"ABCDEFGHIJKLMNOPQRSTUVWXYZ\"\n",
    "img=cv2.imread(\"test4.png\",cv2.IMREAD_GRAYSCALE)\n",
    "img=cv2.resize(img,(32,32))\n",
    "padded = img.astype(\"float32\")/255\n",
    "padded = img.reshape((1,32,32,1))\n",
    "prediction=model.predict(padded)\n",
    "print(prediction)\n",
    "labelNames[np.argmax(prediction)]"
   ]
  },
  {
   "cell_type": "code",
   "execution_count": null,
   "metadata": {
    "id": "E24yrg3Zagat"
   },
   "outputs": [],
   "source": []
  }
 ],
 "metadata": {
  "accelerator": "GPU",
  "colab": {
   "name": "Untitled1.ipynb",
   "provenance": []
  },
  "interpreter": {
   "hash": "916dbcbb3f70747c44a77c7bcd40155683ae19c65e1c03b4aa3499c5328201f1"
  },
  "kernelspec": {
   "display_name": "Python 3 (ipykernel)",
   "language": "python",
   "name": "python3"
  },
  "language_info": {
   "codemirror_mode": {
    "name": "ipython",
    "version": 3
   },
   "file_extension": ".py",
   "mimetype": "text/x-python",
   "name": "python",
   "nbconvert_exporter": "python",
   "pygments_lexer": "ipython3",
   "version": "3.8.10"
  }
 },
 "nbformat": 4,
 "nbformat_minor": 1
}
